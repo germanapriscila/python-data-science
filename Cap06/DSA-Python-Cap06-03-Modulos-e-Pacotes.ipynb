{
 "cells": [
  {
   "cell_type": "markdown",
   "metadata": {},
   "source": [
    "# <font color='blue'>Data Science Academy</font>\n",
    "\n",
    "## <font color='blue'>Fundamentos de Linguagem Python Para Análise de Dados e Data Science</font>\n",
    "\n",
    "## <font color='blue'>Capítulo 6 - Pacotes e Módulos</font>"
   ]
  },
  {
   "cell_type": "code",
   "execution_count": 1,
   "metadata": {},
   "outputs": [
    {
     "name": "stdout",
     "output_type": "stream",
     "text": [
      "Versão da Linguagem Python Usada Neste Jupyter Notebook: 3.9.13\n"
     ]
    }
   ],
   "source": [
    "# Versão da Linguagem Python\n",
    "from platform import python_version\n",
    "print('Versão da Linguagem Python Usada Neste Jupyter Notebook:', python_version())"
   ]
  },
  {
   "cell_type": "markdown",
   "metadata": {},
   "source": [
    "## Pacotes e Módulos\n",
    "\n",
    "Em Python, um módulo é um arquivo (script) que contém código Python e pode ser importado em outros arquivos Python. Ele é usado para compartilhar funções, classes e variáveis entre arquivos.\n",
    "\n",
    "Já um pacote é uma coleção de módulos organizados em uma estrutura de diretórios. Ele permite a divisão de um aplicativo em múltiplos módulos, o que facilita a manutenção e o desenvolvimento.\n",
    "\n",
    "Visite o PyPi, repositório de pacotes da Linguagem Python: https://pypi.org/"
   ]
  },
  {
   "cell_type": "code",
   "execution_count": 2,
   "metadata": {},
   "outputs": [],
   "source": [
    "# Importando um pacote Python\n",
    "import numpy"
   ]
  },
  {
   "cell_type": "code",
   "execution_count": 3,
   "metadata": {},
   "outputs": [
    {
     "data": {
      "text/plain": [
       "['ALLOW_THREADS',\n",
       " 'AxisError',\n",
       " 'BUFSIZE',\n",
       " 'Bytes0',\n",
       " 'CLIP',\n",
       " 'ComplexWarning',\n",
       " 'DataSource',\n",
       " 'Datetime64',\n",
       " 'ERR_CALL',\n",
       " 'ERR_DEFAULT',\n",
       " 'ERR_IGNORE',\n",
       " 'ERR_LOG',\n",
       " 'ERR_PRINT',\n",
       " 'ERR_RAISE',\n",
       " 'ERR_WARN',\n",
       " 'FLOATING_POINT_SUPPORT',\n",
       " 'FPE_DIVIDEBYZERO',\n",
       " 'FPE_INVALID',\n",
       " 'FPE_OVERFLOW',\n",
       " 'FPE_UNDERFLOW',\n",
       " 'False_',\n",
       " 'Inf',\n",
       " 'Infinity',\n",
       " 'MAXDIMS',\n",
       " 'MAY_SHARE_BOUNDS',\n",
       " 'MAY_SHARE_EXACT',\n",
       " 'MachAr',\n",
       " 'ModuleDeprecationWarning',\n",
       " 'NAN',\n",
       " 'NINF',\n",
       " 'NZERO',\n",
       " 'NaN',\n",
       " 'PINF',\n",
       " 'PZERO',\n",
       " 'RAISE',\n",
       " 'RankWarning',\n",
       " 'SHIFT_DIVIDEBYZERO',\n",
       " 'SHIFT_INVALID',\n",
       " 'SHIFT_OVERFLOW',\n",
       " 'SHIFT_UNDERFLOW',\n",
       " 'ScalarType',\n",
       " 'Str0',\n",
       " 'Tester',\n",
       " 'TooHardError',\n",
       " 'True_',\n",
       " 'UFUNC_BUFSIZE_DEFAULT',\n",
       " 'UFUNC_PYVALS_NAME',\n",
       " 'Uint64',\n",
       " 'VisibleDeprecationWarning',\n",
       " 'WRAP',\n",
       " '_NoValue',\n",
       " '_UFUNC_API',\n",
       " '__NUMPY_SETUP__',\n",
       " '__all__',\n",
       " '__builtins__',\n",
       " '__cached__',\n",
       " '__config__',\n",
       " '__deprecated_attrs__',\n",
       " '__dir__',\n",
       " '__doc__',\n",
       " '__expired_functions__',\n",
       " '__file__',\n",
       " '__getattr__',\n",
       " '__git_version__',\n",
       " '__loader__',\n",
       " '__mkl_version__',\n",
       " '__name__',\n",
       " '__package__',\n",
       " '__path__',\n",
       " '__spec__',\n",
       " '__version__',\n",
       " '_add_newdoc_ufunc',\n",
       " '_distributor_init',\n",
       " '_financial_names',\n",
       " '_globals',\n",
       " '_mat',\n",
       " '_pytesttester',\n",
       " '_version',\n",
       " 'abs',\n",
       " 'absolute',\n",
       " 'add',\n",
       " 'add_docstring',\n",
       " 'add_newdoc',\n",
       " 'add_newdoc_ufunc',\n",
       " 'alen',\n",
       " 'all',\n",
       " 'allclose',\n",
       " 'alltrue',\n",
       " 'amax',\n",
       " 'amin',\n",
       " 'angle',\n",
       " 'any',\n",
       " 'append',\n",
       " 'apply_along_axis',\n",
       " 'apply_over_axes',\n",
       " 'arange',\n",
       " 'arccos',\n",
       " 'arccosh',\n",
       " 'arcsin',\n",
       " 'arcsinh',\n",
       " 'arctan',\n",
       " 'arctan2',\n",
       " 'arctanh',\n",
       " 'argmax',\n",
       " 'argmin',\n",
       " 'argpartition',\n",
       " 'argsort',\n",
       " 'argwhere',\n",
       " 'around',\n",
       " 'array',\n",
       " 'array2string',\n",
       " 'array_equal',\n",
       " 'array_equiv',\n",
       " 'array_repr',\n",
       " 'array_split',\n",
       " 'array_str',\n",
       " 'asanyarray',\n",
       " 'asarray',\n",
       " 'asarray_chkfinite',\n",
       " 'ascontiguousarray',\n",
       " 'asfarray',\n",
       " 'asfortranarray',\n",
       " 'asmatrix',\n",
       " 'asscalar',\n",
       " 'atleast_1d',\n",
       " 'atleast_2d',\n",
       " 'atleast_3d',\n",
       " 'average',\n",
       " 'bartlett',\n",
       " 'base_repr',\n",
       " 'binary_repr',\n",
       " 'bincount',\n",
       " 'bitwise_and',\n",
       " 'bitwise_not',\n",
       " 'bitwise_or',\n",
       " 'bitwise_xor',\n",
       " 'blackman',\n",
       " 'block',\n",
       " 'bmat',\n",
       " 'bool8',\n",
       " 'bool_',\n",
       " 'broadcast',\n",
       " 'broadcast_arrays',\n",
       " 'broadcast_shapes',\n",
       " 'broadcast_to',\n",
       " 'busday_count',\n",
       " 'busday_offset',\n",
       " 'busdaycalendar',\n",
       " 'byte',\n",
       " 'byte_bounds',\n",
       " 'bytes0',\n",
       " 'bytes_',\n",
       " 'c_',\n",
       " 'can_cast',\n",
       " 'cast',\n",
       " 'cbrt',\n",
       " 'cdouble',\n",
       " 'ceil',\n",
       " 'cfloat',\n",
       " 'char',\n",
       " 'character',\n",
       " 'chararray',\n",
       " 'choose',\n",
       " 'clip',\n",
       " 'clongdouble',\n",
       " 'clongfloat',\n",
       " 'column_stack',\n",
       " 'common_type',\n",
       " 'compare_chararrays',\n",
       " 'compat',\n",
       " 'complex128',\n",
       " 'complex256',\n",
       " 'complex64',\n",
       " 'complex_',\n",
       " 'complexfloating',\n",
       " 'compress',\n",
       " 'concatenate',\n",
       " 'conj',\n",
       " 'conjugate',\n",
       " 'convolve',\n",
       " 'copy',\n",
       " 'copysign',\n",
       " 'copyto',\n",
       " 'core',\n",
       " 'corrcoef',\n",
       " 'correlate',\n",
       " 'cos',\n",
       " 'cosh',\n",
       " 'count_nonzero',\n",
       " 'cov',\n",
       " 'cross',\n",
       " 'csingle',\n",
       " 'ctypeslib',\n",
       " 'cumprod',\n",
       " 'cumproduct',\n",
       " 'cumsum',\n",
       " 'datetime64',\n",
       " 'datetime_as_string',\n",
       " 'datetime_data',\n",
       " 'deg2rad',\n",
       " 'degrees',\n",
       " 'delete',\n",
       " 'deprecate',\n",
       " 'deprecate_with_doc',\n",
       " 'diag',\n",
       " 'diag_indices',\n",
       " 'diag_indices_from',\n",
       " 'diagflat',\n",
       " 'diagonal',\n",
       " 'diff',\n",
       " 'digitize',\n",
       " 'disp',\n",
       " 'divide',\n",
       " 'divmod',\n",
       " 'dot',\n",
       " 'double',\n",
       " 'dsplit',\n",
       " 'dstack',\n",
       " 'dtype',\n",
       " 'e',\n",
       " 'ediff1d',\n",
       " 'einsum',\n",
       " 'einsum_path',\n",
       " 'emath',\n",
       " 'empty',\n",
       " 'empty_like',\n",
       " 'equal',\n",
       " 'errstate',\n",
       " 'euler_gamma',\n",
       " 'exp',\n",
       " 'exp2',\n",
       " 'expand_dims',\n",
       " 'expm1',\n",
       " 'extract',\n",
       " 'eye',\n",
       " 'fabs',\n",
       " 'fastCopyAndTranspose',\n",
       " 'fft',\n",
       " 'fill_diagonal',\n",
       " 'find_common_type',\n",
       " 'finfo',\n",
       " 'fix',\n",
       " 'flatiter',\n",
       " 'flatnonzero',\n",
       " 'flexible',\n",
       " 'flip',\n",
       " 'fliplr',\n",
       " 'flipud',\n",
       " 'float128',\n",
       " 'float16',\n",
       " 'float32',\n",
       " 'float64',\n",
       " 'float_',\n",
       " 'float_power',\n",
       " 'floating',\n",
       " 'floor',\n",
       " 'floor_divide',\n",
       " 'fmax',\n",
       " 'fmin',\n",
       " 'fmod',\n",
       " 'format_float_positional',\n",
       " 'format_float_scientific',\n",
       " 'format_parser',\n",
       " 'frexp',\n",
       " 'frombuffer',\n",
       " 'fromfile',\n",
       " 'fromfunction',\n",
       " 'fromiter',\n",
       " 'frompyfunc',\n",
       " 'fromregex',\n",
       " 'fromstring',\n",
       " 'full',\n",
       " 'full_like',\n",
       " 'gcd',\n",
       " 'generic',\n",
       " 'genfromtxt',\n",
       " 'geomspace',\n",
       " 'get_array_wrap',\n",
       " 'get_include',\n",
       " 'get_printoptions',\n",
       " 'getbufsize',\n",
       " 'geterr',\n",
       " 'geterrcall',\n",
       " 'geterrobj',\n",
       " 'gradient',\n",
       " 'greater',\n",
       " 'greater_equal',\n",
       " 'half',\n",
       " 'hamming',\n",
       " 'hanning',\n",
       " 'heaviside',\n",
       " 'histogram',\n",
       " 'histogram2d',\n",
       " 'histogram_bin_edges',\n",
       " 'histogramdd',\n",
       " 'hsplit',\n",
       " 'hstack',\n",
       " 'hypot',\n",
       " 'i0',\n",
       " 'identity',\n",
       " 'iinfo',\n",
       " 'imag',\n",
       " 'in1d',\n",
       " 'index_exp',\n",
       " 'indices',\n",
       " 'inexact',\n",
       " 'inf',\n",
       " 'info',\n",
       " 'infty',\n",
       " 'inner',\n",
       " 'insert',\n",
       " 'int0',\n",
       " 'int16',\n",
       " 'int32',\n",
       " 'int64',\n",
       " 'int8',\n",
       " 'int_',\n",
       " 'intc',\n",
       " 'integer',\n",
       " 'interp',\n",
       " 'intersect1d',\n",
       " 'intp',\n",
       " 'invert',\n",
       " 'is_busday',\n",
       " 'isclose',\n",
       " 'iscomplex',\n",
       " 'iscomplexobj',\n",
       " 'isfinite',\n",
       " 'isfortran',\n",
       " 'isin',\n",
       " 'isinf',\n",
       " 'isnan',\n",
       " 'isnat',\n",
       " 'isneginf',\n",
       " 'isposinf',\n",
       " 'isreal',\n",
       " 'isrealobj',\n",
       " 'isscalar',\n",
       " 'issctype',\n",
       " 'issubclass_',\n",
       " 'issubdtype',\n",
       " 'issubsctype',\n",
       " 'iterable',\n",
       " 'ix_',\n",
       " 'kaiser',\n",
       " 'kernel_version',\n",
       " 'kron',\n",
       " 'lcm',\n",
       " 'ldexp',\n",
       " 'left_shift',\n",
       " 'less',\n",
       " 'less_equal',\n",
       " 'lexsort',\n",
       " 'lib',\n",
       " 'linalg',\n",
       " 'linspace',\n",
       " 'little_endian',\n",
       " 'load',\n",
       " 'loads',\n",
       " 'loadtxt',\n",
       " 'log',\n",
       " 'log10',\n",
       " 'log1p',\n",
       " 'log2',\n",
       " 'logaddexp',\n",
       " 'logaddexp2',\n",
       " 'logical_and',\n",
       " 'logical_not',\n",
       " 'logical_or',\n",
       " 'logical_xor',\n",
       " 'logspace',\n",
       " 'longcomplex',\n",
       " 'longdouble',\n",
       " 'longfloat',\n",
       " 'longlong',\n",
       " 'lookfor',\n",
       " 'ma',\n",
       " 'mafromtxt',\n",
       " 'mask_indices',\n",
       " 'mat',\n",
       " 'math',\n",
       " 'matmul',\n",
       " 'matrix',\n",
       " 'matrixlib',\n",
       " 'max',\n",
       " 'maximum',\n",
       " 'maximum_sctype',\n",
       " 'may_share_memory',\n",
       " 'mean',\n",
       " 'median',\n",
       " 'memmap',\n",
       " 'meshgrid',\n",
       " 'mgrid',\n",
       " 'min',\n",
       " 'min_scalar_type',\n",
       " 'minimum',\n",
       " 'mintypecode',\n",
       " 'mkl',\n",
       " 'mod',\n",
       " 'modf',\n",
       " 'moveaxis',\n",
       " 'msort',\n",
       " 'multiply',\n",
       " 'nan',\n",
       " 'nan_to_num',\n",
       " 'nanargmax',\n",
       " 'nanargmin',\n",
       " 'nancumprod',\n",
       " 'nancumsum',\n",
       " 'nanmax',\n",
       " 'nanmean',\n",
       " 'nanmedian',\n",
       " 'nanmin',\n",
       " 'nanpercentile',\n",
       " 'nanprod',\n",
       " 'nanquantile',\n",
       " 'nanstd',\n",
       " 'nansum',\n",
       " 'nanvar',\n",
       " 'nbytes',\n",
       " 'ndarray',\n",
       " 'ndenumerate',\n",
       " 'ndfromtxt',\n",
       " 'ndim',\n",
       " 'ndindex',\n",
       " 'nditer',\n",
       " 'negative',\n",
       " 'nested_iters',\n",
       " 'newaxis',\n",
       " 'nextafter',\n",
       " 'nonzero',\n",
       " 'not_equal',\n",
       " 'numarray',\n",
       " 'number',\n",
       " 'obj2sctype',\n",
       " 'object0',\n",
       " 'object_',\n",
       " 'ogrid',\n",
       " 'oldnumeric',\n",
       " 'ones',\n",
       " 'ones_like',\n",
       " 'os',\n",
       " 'outer',\n",
       " 'packbits',\n",
       " 'pad',\n",
       " 'partition',\n",
       " 'percentile',\n",
       " 'pi',\n",
       " 'piecewise',\n",
       " 'place',\n",
       " 'poly',\n",
       " 'poly1d',\n",
       " 'polyadd',\n",
       " 'polyder',\n",
       " 'polydiv',\n",
       " 'polyfit',\n",
       " 'polyint',\n",
       " 'polymul',\n",
       " 'polynomial',\n",
       " 'polysub',\n",
       " 'polyval',\n",
       " 'positive',\n",
       " 'power',\n",
       " 'printoptions',\n",
       " 'prod',\n",
       " 'product',\n",
       " 'promote_types',\n",
       " 'ptp',\n",
       " 'put',\n",
       " 'put_along_axis',\n",
       " 'putmask',\n",
       " 'quantile',\n",
       " 'r_',\n",
       " 'rad2deg',\n",
       " 'radians',\n",
       " 'random',\n",
       " 'ravel',\n",
       " 'ravel_multi_index',\n",
       " 'real',\n",
       " 'real_if_close',\n",
       " 'rec',\n",
       " 'recarray',\n",
       " 'recfromcsv',\n",
       " 'recfromtxt',\n",
       " 'reciprocal',\n",
       " 'record',\n",
       " 'remainder',\n",
       " 'repeat',\n",
       " 'require',\n",
       " 'reshape',\n",
       " 'resize',\n",
       " 'result_type',\n",
       " 'right_shift',\n",
       " 'rint',\n",
       " 'roll',\n",
       " 'rollaxis',\n",
       " 'roots',\n",
       " 'rot90',\n",
       " 'round',\n",
       " 'round_',\n",
       " 'row_stack',\n",
       " 's_',\n",
       " 'safe_eval',\n",
       " 'save',\n",
       " 'savetxt',\n",
       " 'savez',\n",
       " 'savez_compressed',\n",
       " 'sctype2char',\n",
       " 'sctypeDict',\n",
       " 'sctypes',\n",
       " 'searchsorted',\n",
       " 'select',\n",
       " 'set_numeric_ops',\n",
       " 'set_printoptions',\n",
       " 'set_string_function',\n",
       " 'setbufsize',\n",
       " 'setdiff1d',\n",
       " 'seterr',\n",
       " 'seterrcall',\n",
       " 'seterrobj',\n",
       " 'setxor1d',\n",
       " 'shape',\n",
       " 'shares_memory',\n",
       " 'short',\n",
       " 'show_config',\n",
       " 'sign',\n",
       " 'signbit',\n",
       " 'signedinteger',\n",
       " 'sin',\n",
       " 'sinc',\n",
       " 'single',\n",
       " 'singlecomplex',\n",
       " 'sinh',\n",
       " 'size',\n",
       " 'sometrue',\n",
       " 'sort',\n",
       " 'sort_complex',\n",
       " 'source',\n",
       " 'spacing',\n",
       " 'split',\n",
       " 'sqrt',\n",
       " 'square',\n",
       " 'squeeze',\n",
       " 'stack',\n",
       " 'std',\n",
       " 'str0',\n",
       " 'str_',\n",
       " 'string_',\n",
       " 'subtract',\n",
       " 'sum',\n",
       " 'swapaxes',\n",
       " 'sys',\n",
       " 'take',\n",
       " 'take_along_axis',\n",
       " 'tan',\n",
       " 'tanh',\n",
       " 'tensordot',\n",
       " 'test',\n",
       " 'testing',\n",
       " 'tile',\n",
       " 'timedelta64',\n",
       " 'trace',\n",
       " 'tracemalloc_domain',\n",
       " 'transpose',\n",
       " 'trapz',\n",
       " 'tri',\n",
       " 'tril',\n",
       " 'tril_indices',\n",
       " 'tril_indices_from',\n",
       " 'trim_zeros',\n",
       " 'triu',\n",
       " 'triu_indices',\n",
       " 'triu_indices_from',\n",
       " 'true_divide',\n",
       " 'trunc',\n",
       " 'typecodes',\n",
       " 'typename',\n",
       " 'ubyte',\n",
       " 'ufunc',\n",
       " 'uint',\n",
       " 'uint0',\n",
       " 'uint16',\n",
       " 'uint32',\n",
       " 'uint64',\n",
       " 'uint8',\n",
       " 'uintc',\n",
       " 'uintp',\n",
       " 'ulonglong',\n",
       " 'unicode_',\n",
       " 'union1d',\n",
       " 'unique',\n",
       " 'unpackbits',\n",
       " 'unravel_index',\n",
       " 'unsignedinteger',\n",
       " 'unwrap',\n",
       " 'use_hugepage',\n",
       " 'ushort',\n",
       " 'vander',\n",
       " 'var',\n",
       " 'vdot',\n",
       " 'vectorize',\n",
       " 'version',\n",
       " 'void',\n",
       " 'void0',\n",
       " 'vsplit',\n",
       " 'vstack',\n",
       " 'warnings',\n",
       " 'where',\n",
       " 'who',\n",
       " 'zeros',\n",
       " 'zeros_like']"
      ]
     },
     "execution_count": 3,
     "metadata": {},
     "output_type": "execute_result"
    }
   ],
   "source": [
    "# Verificando todos os métodos e atributos disponíveis no pacote\n",
    "dir(numpy)"
   ]
  },
  {
   "cell_type": "code",
   "execution_count": 4,
   "metadata": {},
   "outputs": [
    {
     "data": {
      "text/plain": [
       "5.0"
      ]
     },
     "execution_count": 4,
     "metadata": {},
     "output_type": "execute_result"
    }
   ],
   "source": [
    "# Usando um dos métodos do pacote Numpy\n",
    "numpy.sqrt(25)"
   ]
  },
  {
   "cell_type": "code",
   "execution_count": 5,
   "metadata": {},
   "outputs": [],
   "source": [
    "# Importando apenas um dos métodos do pacote Numpy\n",
    "from numpy import sqrt"
   ]
  },
  {
   "cell_type": "code",
   "execution_count": 6,
   "metadata": {},
   "outputs": [
    {
     "data": {
      "text/plain": [
       "3.0"
      ]
     },
     "execution_count": 6,
     "metadata": {},
     "output_type": "execute_result"
    }
   ],
   "source": [
    "# Usando o método\n",
    "sqrt(9)"
   ]
  },
  {
   "cell_type": "code",
   "execution_count": 7,
   "metadata": {},
   "outputs": [
    {
     "name": "stdout",
     "output_type": "stream",
     "text": [
      "['ALLOW_THREADS', 'AxisError', 'BUFSIZE', 'Bytes0', 'CLIP', 'ComplexWarning', 'DataSource', 'Datetime64', 'ERR_CALL', 'ERR_DEFAULT', 'ERR_IGNORE', 'ERR_LOG', 'ERR_PRINT', 'ERR_RAISE', 'ERR_WARN', 'FLOATING_POINT_SUPPORT', 'FPE_DIVIDEBYZERO', 'FPE_INVALID', 'FPE_OVERFLOW', 'FPE_UNDERFLOW', 'False_', 'Inf', 'Infinity', 'MAXDIMS', 'MAY_SHARE_BOUNDS', 'MAY_SHARE_EXACT', 'MachAr', 'ModuleDeprecationWarning', 'NAN', 'NINF', 'NZERO', 'NaN', 'PINF', 'PZERO', 'RAISE', 'RankWarning', 'SHIFT_DIVIDEBYZERO', 'SHIFT_INVALID', 'SHIFT_OVERFLOW', 'SHIFT_UNDERFLOW', 'ScalarType', 'Str0', 'Tester', 'TooHardError', 'True_', 'UFUNC_BUFSIZE_DEFAULT', 'UFUNC_PYVALS_NAME', 'Uint64', 'VisibleDeprecationWarning', 'WRAP', '_NoValue', '_UFUNC_API', '__NUMPY_SETUP__', '__all__', '__builtins__', '__cached__', '__config__', '__deprecated_attrs__', '__dir__', '__doc__', '__expired_functions__', '__file__', '__getattr__', '__git_version__', '__loader__', '__mkl_version__', '__name__', '__package__', '__path__', '__spec__', '__version__', '_add_newdoc_ufunc', '_distributor_init', '_financial_names', '_globals', '_mat', '_pytesttester', '_version', 'abs', 'absolute', 'add', 'add_docstring', 'add_newdoc', 'add_newdoc_ufunc', 'alen', 'all', 'allclose', 'alltrue', 'amax', 'amin', 'angle', 'any', 'append', 'apply_along_axis', 'apply_over_axes', 'arange', 'arccos', 'arccosh', 'arcsin', 'arcsinh', 'arctan', 'arctan2', 'arctanh', 'argmax', 'argmin', 'argpartition', 'argsort', 'argwhere', 'around', 'array', 'array2string', 'array_equal', 'array_equiv', 'array_repr', 'array_split', 'array_str', 'asanyarray', 'asarray', 'asarray_chkfinite', 'ascontiguousarray', 'asfarray', 'asfortranarray', 'asmatrix', 'asscalar', 'atleast_1d', 'atleast_2d', 'atleast_3d', 'average', 'bartlett', 'base_repr', 'binary_repr', 'bincount', 'bitwise_and', 'bitwise_not', 'bitwise_or', 'bitwise_xor', 'blackman', 'block', 'bmat', 'bool8', 'bool_', 'broadcast', 'broadcast_arrays', 'broadcast_shapes', 'broadcast_to', 'busday_count', 'busday_offset', 'busdaycalendar', 'byte', 'byte_bounds', 'bytes0', 'bytes_', 'c_', 'can_cast', 'cast', 'cbrt', 'cdouble', 'ceil', 'cfloat', 'char', 'character', 'chararray', 'choose', 'clip', 'clongdouble', 'clongfloat', 'column_stack', 'common_type', 'compare_chararrays', 'compat', 'complex128', 'complex256', 'complex64', 'complex_', 'complexfloating', 'compress', 'concatenate', 'conj', 'conjugate', 'convolve', 'copy', 'copysign', 'copyto', 'core', 'corrcoef', 'correlate', 'cos', 'cosh', 'count_nonzero', 'cov', 'cross', 'csingle', 'ctypeslib', 'cumprod', 'cumproduct', 'cumsum', 'datetime64', 'datetime_as_string', 'datetime_data', 'deg2rad', 'degrees', 'delete', 'deprecate', 'deprecate_with_doc', 'diag', 'diag_indices', 'diag_indices_from', 'diagflat', 'diagonal', 'diff', 'digitize', 'disp', 'divide', 'divmod', 'dot', 'double', 'dsplit', 'dstack', 'dtype', 'e', 'ediff1d', 'einsum', 'einsum_path', 'emath', 'empty', 'empty_like', 'equal', 'errstate', 'euler_gamma', 'exp', 'exp2', 'expand_dims', 'expm1', 'extract', 'eye', 'fabs', 'fastCopyAndTranspose', 'fft', 'fill_diagonal', 'find_common_type', 'finfo', 'fix', 'flatiter', 'flatnonzero', 'flexible', 'flip', 'fliplr', 'flipud', 'float128', 'float16', 'float32', 'float64', 'float_', 'float_power', 'floating', 'floor', 'floor_divide', 'fmax', 'fmin', 'fmod', 'format_float_positional', 'format_float_scientific', 'format_parser', 'frexp', 'frombuffer', 'fromfile', 'fromfunction', 'fromiter', 'frompyfunc', 'fromregex', 'fromstring', 'full', 'full_like', 'gcd', 'generic', 'genfromtxt', 'geomspace', 'get_array_wrap', 'get_include', 'get_printoptions', 'getbufsize', 'geterr', 'geterrcall', 'geterrobj', 'gradient', 'greater', 'greater_equal', 'half', 'hamming', 'hanning', 'heaviside', 'histogram', 'histogram2d', 'histogram_bin_edges', 'histogramdd', 'hsplit', 'hstack', 'hypot', 'i0', 'identity', 'iinfo', 'imag', 'in1d', 'index_exp', 'indices', 'inexact', 'inf', 'info', 'infty', 'inner', 'insert', 'int0', 'int16', 'int32', 'int64', 'int8', 'int_', 'intc', 'integer', 'interp', 'intersect1d', 'intp', 'invert', 'is_busday', 'isclose', 'iscomplex', 'iscomplexobj', 'isfinite', 'isfortran', 'isin', 'isinf', 'isnan', 'isnat', 'isneginf', 'isposinf', 'isreal', 'isrealobj', 'isscalar', 'issctype', 'issubclass_', 'issubdtype', 'issubsctype', 'iterable', 'ix_', 'kaiser', 'kernel_version', 'kron', 'lcm', 'ldexp', 'left_shift', 'less', 'less_equal', 'lexsort', 'lib', 'linalg', 'linspace', 'little_endian', 'load', 'loads', 'loadtxt', 'log', 'log10', 'log1p', 'log2', 'logaddexp', 'logaddexp2', 'logical_and', 'logical_not', 'logical_or', 'logical_xor', 'logspace', 'longcomplex', 'longdouble', 'longfloat', 'longlong', 'lookfor', 'ma', 'mafromtxt', 'mask_indices', 'mat', 'math', 'matmul', 'matrix', 'matrixlib', 'max', 'maximum', 'maximum_sctype', 'may_share_memory', 'mean', 'median', 'memmap', 'meshgrid', 'mgrid', 'min', 'min_scalar_type', 'minimum', 'mintypecode', 'mkl', 'mod', 'modf', 'moveaxis', 'msort', 'multiply', 'nan', 'nan_to_num', 'nanargmax', 'nanargmin', 'nancumprod', 'nancumsum', 'nanmax', 'nanmean', 'nanmedian', 'nanmin', 'nanpercentile', 'nanprod', 'nanquantile', 'nanstd', 'nansum', 'nanvar', 'nbytes', 'ndarray', 'ndenumerate', 'ndfromtxt', 'ndim', 'ndindex', 'nditer', 'negative', 'nested_iters', 'newaxis', 'nextafter', 'nonzero', 'not_equal', 'numarray', 'number', 'obj2sctype', 'object0', 'object_', 'ogrid', 'oldnumeric', 'ones', 'ones_like', 'os', 'outer', 'packbits', 'pad', 'partition', 'percentile', 'pi', 'piecewise', 'place', 'poly', 'poly1d', 'polyadd', 'polyder', 'polydiv', 'polyfit', 'polyint', 'polymul', 'polynomial', 'polysub', 'polyval', 'positive', 'power', 'printoptions', 'prod', 'product', 'promote_types', 'ptp', 'put', 'put_along_axis', 'putmask', 'quantile', 'r_', 'rad2deg', 'radians', 'random', 'ravel', 'ravel_multi_index', 'real', 'real_if_close', 'rec', 'recarray', 'recfromcsv', 'recfromtxt', 'reciprocal', 'record', 'remainder', 'repeat', 'require', 'reshape', 'resize', 'result_type', 'right_shift', 'rint', 'roll', 'rollaxis', 'roots', 'rot90', 'round', 'round_', 'row_stack', 's_', 'safe_eval', 'save', 'savetxt', 'savez', 'savez_compressed', 'sctype2char', 'sctypeDict', 'sctypes', 'searchsorted', 'select', 'set_numeric_ops', 'set_printoptions', 'set_string_function', 'setbufsize', 'setdiff1d', 'seterr', 'seterrcall', 'seterrobj', 'setxor1d', 'shape', 'shares_memory', 'short', 'show_config', 'sign', 'signbit', 'signedinteger', 'sin', 'sinc', 'single', 'singlecomplex', 'sinh', 'size', 'sometrue', 'sort', 'sort_complex', 'source', 'spacing', 'split', 'sqrt', 'square', 'squeeze', 'stack', 'std', 'str0', 'str_', 'string_', 'subtract', 'sum', 'swapaxes', 'sys', 'take', 'take_along_axis', 'tan', 'tanh', 'tensordot', 'test', 'testing', 'tile', 'timedelta64', 'trace', 'tracemalloc_domain', 'transpose', 'trapz', 'tri', 'tril', 'tril_indices', 'tril_indices_from', 'trim_zeros', 'triu', 'triu_indices', 'triu_indices_from', 'true_divide', 'trunc', 'typecodes', 'typename', 'ubyte', 'ufunc', 'uint', 'uint0', 'uint16', 'uint32', 'uint64', 'uint8', 'uintc', 'uintp', 'ulonglong', 'unicode_', 'union1d', 'unique', 'unpackbits', 'unravel_index', 'unsignedinteger', 'unwrap', 'use_hugepage', 'ushort', 'vander', 'var', 'vdot', 'vectorize', 'version', 'void', 'void0', 'vsplit', 'vstack', 'warnings', 'where', 'who', 'zeros', 'zeros_like']\n"
     ]
    }
   ],
   "source": [
    "# Imprimindo todos os métodos do pacote numpy\n",
    "print(dir(numpy))"
   ]
  },
  {
   "cell_type": "code",
   "execution_count": 8,
   "metadata": {},
   "outputs": [
    {
     "name": "stdout",
     "output_type": "stream",
     "text": [
      "Help on ufunc:\n",
      "\n",
      "sqrt = <ufunc 'sqrt'>\n",
      "    sqrt(x, /, out=None, *, where=True, casting='same_kind', order='K', dtype=None, subok=True[, signature, extobj])\n",
      "    \n",
      "    Return the non-negative square-root of an array, element-wise.\n",
      "    \n",
      "    Parameters\n",
      "    ----------\n",
      "    x : array_like\n",
      "        The values whose square-roots are required.\n",
      "    out : ndarray, None, or tuple of ndarray and None, optional\n",
      "        A location into which the result is stored. If provided, it must have\n",
      "        a shape that the inputs broadcast to. If not provided or None,\n",
      "        a freshly-allocated array is returned. A tuple (possible only as a\n",
      "        keyword argument) must have length equal to the number of outputs.\n",
      "    where : array_like, optional\n",
      "        This condition is broadcast over the input. At locations where the\n",
      "        condition is True, the `out` array will be set to the ufunc result.\n",
      "        Elsewhere, the `out` array will retain its original value.\n",
      "        Note that if an uninitialized `out` array is created via the default\n",
      "        ``out=None``, locations within it where the condition is False will\n",
      "        remain uninitialized.\n",
      "    **kwargs\n",
      "        For other keyword-only arguments, see the\n",
      "        :ref:`ufunc docs <ufuncs.kwargs>`.\n",
      "    \n",
      "    Returns\n",
      "    -------\n",
      "    y : ndarray\n",
      "        An array of the same shape as `x`, containing the positive\n",
      "        square-root of each element in `x`.  If any element in `x` is\n",
      "        complex, a complex array is returned (and the square-roots of\n",
      "        negative reals are calculated).  If all of the elements in `x`\n",
      "        are real, so is `y`, with negative elements returning ``nan``.\n",
      "        If `out` was provided, `y` is a reference to it.\n",
      "        This is a scalar if `x` is a scalar.\n",
      "    \n",
      "    See Also\n",
      "    --------\n",
      "    lib.scimath.sqrt\n",
      "        A version which returns complex numbers when given negative reals.\n",
      "    \n",
      "    Notes\n",
      "    -----\n",
      "    *sqrt* has--consistent with common convention--as its branch cut the\n",
      "    real \"interval\" [`-inf`, 0), and is continuous from above on it.\n",
      "    A branch cut is a curve in the complex plane across which a given\n",
      "    complex function fails to be continuous.\n",
      "    \n",
      "    Examples\n",
      "    --------\n",
      "    >>> np.sqrt([1,4,9])\n",
      "    array([ 1.,  2.,  3.])\n",
      "    \n",
      "    >>> np.sqrt([4, -1, -3+4J])\n",
      "    array([ 2.+0.j,  0.+1.j,  1.+2.j])\n",
      "    \n",
      "    >>> np.sqrt([4, -1, np.inf])\n",
      "    array([ 2., nan, inf])\n",
      "\n"
     ]
    }
   ],
   "source": [
    "# Help do método sqrt do pacote Numpy\n",
    "help(sqrt)"
   ]
  },
  {
   "cell_type": "code",
   "execution_count": 9,
   "metadata": {},
   "outputs": [],
   "source": [
    "import random"
   ]
  },
  {
   "cell_type": "code",
   "execution_count": 10,
   "metadata": {},
   "outputs": [
    {
     "data": {
      "text/plain": [
       "'Abacate'"
      ]
     },
     "execution_count": 10,
     "metadata": {},
     "output_type": "execute_result"
    }
   ],
   "source": [
    "random.choice(['Abacate', 'Banana', 'Laranja'])"
   ]
  },
  {
   "cell_type": "code",
   "execution_count": 11,
   "metadata": {},
   "outputs": [
    {
     "data": {
      "text/plain": [
       "[35, 13, 65, 64, 92, 91, 75, 95, 69, 42]"
      ]
     },
     "execution_count": 11,
     "metadata": {},
     "output_type": "execute_result"
    }
   ],
   "source": [
    "random.sample(range(100), 10)"
   ]
  },
  {
   "cell_type": "code",
   "execution_count": 12,
   "metadata": {},
   "outputs": [],
   "source": [
    "import statistics"
   ]
  },
  {
   "cell_type": "code",
   "execution_count": 13,
   "metadata": {},
   "outputs": [],
   "source": [
    "dados = [2.75, 1.75, 1.25, 0.25, 0.5, 1.25, 3.5]"
   ]
  },
  {
   "cell_type": "code",
   "execution_count": 14,
   "metadata": {},
   "outputs": [
    {
     "data": {
      "text/plain": [
       "1.6071428571428572"
      ]
     },
     "execution_count": 14,
     "metadata": {},
     "output_type": "execute_result"
    }
   ],
   "source": [
    "statistics.mean(dados)"
   ]
  },
  {
   "cell_type": "code",
   "execution_count": 15,
   "metadata": {},
   "outputs": [
    {
     "data": {
      "text/plain": [
       "1.25"
      ]
     },
     "execution_count": 15,
     "metadata": {},
     "output_type": "execute_result"
    }
   ],
   "source": [
    "statistics.median(dados)"
   ]
  },
  {
   "cell_type": "code",
   "execution_count": 16,
   "metadata": {},
   "outputs": [],
   "source": [
    "import os"
   ]
  },
  {
   "cell_type": "code",
   "execution_count": 17,
   "metadata": {},
   "outputs": [
    {
     "data": {
      "text/plain": [
       "'/home/pri/PythonDSA/Cap06'"
      ]
     },
     "execution_count": 17,
     "metadata": {},
     "output_type": "execute_result"
    }
   ],
   "source": [
    "os.getcwd()"
   ]
  },
  {
   "cell_type": "code",
   "execution_count": 18,
   "metadata": {},
   "outputs": [
    {
     "name": "stdout",
     "output_type": "stream",
     "text": [
      "['CLD_CONTINUED', 'CLD_DUMPED', 'CLD_EXITED', 'CLD_KILLED', 'CLD_STOPPED', 'CLD_TRAPPED', 'DirEntry', 'EX_CANTCREAT', 'EX_CONFIG', 'EX_DATAERR', 'EX_IOERR', 'EX_NOHOST', 'EX_NOINPUT', 'EX_NOPERM', 'EX_NOUSER', 'EX_OK', 'EX_OSERR', 'EX_OSFILE', 'EX_PROTOCOL', 'EX_SOFTWARE', 'EX_TEMPFAIL', 'EX_UNAVAILABLE', 'EX_USAGE', 'F_LOCK', 'F_OK', 'F_TEST', 'F_TLOCK', 'F_ULOCK', 'GRND_NONBLOCK', 'GRND_RANDOM', 'GenericAlias', 'Mapping', 'MutableMapping', 'NGROUPS_MAX', 'O_ACCMODE', 'O_APPEND', 'O_ASYNC', 'O_CLOEXEC', 'O_CREAT', 'O_DIRECT', 'O_DIRECTORY', 'O_DSYNC', 'O_EXCL', 'O_LARGEFILE', 'O_NDELAY', 'O_NOATIME', 'O_NOCTTY', 'O_NOFOLLOW', 'O_NONBLOCK', 'O_PATH', 'O_RDONLY', 'O_RDWR', 'O_RSYNC', 'O_SYNC', 'O_TMPFILE', 'O_TRUNC', 'O_WRONLY', 'POSIX_FADV_DONTNEED', 'POSIX_FADV_NOREUSE', 'POSIX_FADV_NORMAL', 'POSIX_FADV_RANDOM', 'POSIX_FADV_SEQUENTIAL', 'POSIX_FADV_WILLNEED', 'POSIX_SPAWN_CLOSE', 'POSIX_SPAWN_DUP2', 'POSIX_SPAWN_OPEN', 'PRIO_PGRP', 'PRIO_PROCESS', 'PRIO_USER', 'P_ALL', 'P_NOWAIT', 'P_NOWAITO', 'P_PGID', 'P_PID', 'P_WAIT', 'PathLike', 'RTLD_DEEPBIND', 'RTLD_GLOBAL', 'RTLD_LAZY', 'RTLD_LOCAL', 'RTLD_NODELETE', 'RTLD_NOLOAD', 'RTLD_NOW', 'R_OK', 'SCHED_BATCH', 'SCHED_FIFO', 'SCHED_IDLE', 'SCHED_OTHER', 'SCHED_RESET_ON_FORK', 'SCHED_RR', 'SEEK_CUR', 'SEEK_DATA', 'SEEK_END', 'SEEK_HOLE', 'SEEK_SET', 'ST_APPEND', 'ST_MANDLOCK', 'ST_NOATIME', 'ST_NODEV', 'ST_NODIRATIME', 'ST_NOEXEC', 'ST_NOSUID', 'ST_RDONLY', 'ST_RELATIME', 'ST_SYNCHRONOUS', 'ST_WRITE', 'TMP_MAX', 'WCONTINUED', 'WCOREDUMP', 'WEXITED', 'WEXITSTATUS', 'WIFCONTINUED', 'WIFEXITED', 'WIFSIGNALED', 'WIFSTOPPED', 'WNOHANG', 'WNOWAIT', 'WSTOPPED', 'WSTOPSIG', 'WTERMSIG', 'WUNTRACED', 'W_OK', 'XATTR_CREATE', 'XATTR_REPLACE', 'XATTR_SIZE_MAX', 'X_OK', '_Environ', '__all__', '__builtins__', '__cached__', '__doc__', '__file__', '__loader__', '__name__', '__package__', '__spec__', '_check_methods', '_execvpe', '_exists', '_exit', '_fspath', '_fwalk', '_get_exports_list', '_spawnvef', '_walk', '_wrap_close', 'abc', 'abort', 'access', 'altsep', 'chdir', 'chmod', 'chown', 'chroot', 'close', 'closerange', 'confstr', 'confstr_names', 'cpu_count', 'ctermid', 'curdir', 'defpath', 'device_encoding', 'devnull', 'dup', 'dup2', 'environ', 'environb', 'error', 'execl', 'execle', 'execlp', 'execlpe', 'execv', 'execve', 'execvp', 'execvpe', 'extsep', 'fchdir', 'fchmod', 'fchown', 'fdatasync', 'fdopen', 'fork', 'forkpty', 'fpathconf', 'fsdecode', 'fsencode', 'fspath', 'fstat', 'fstatvfs', 'fsync', 'ftruncate', 'fwalk', 'get_blocking', 'get_exec_path', 'get_inheritable', 'get_terminal_size', 'getcwd', 'getcwdb', 'getegid', 'getenv', 'getenvb', 'geteuid', 'getgid', 'getgrouplist', 'getgroups', 'getloadavg', 'getlogin', 'getpgid', 'getpgrp', 'getpid', 'getppid', 'getpriority', 'getrandom', 'getresgid', 'getresuid', 'getsid', 'getuid', 'getxattr', 'initgroups', 'isatty', 'kill', 'killpg', 'lchown', 'linesep', 'link', 'listdir', 'listxattr', 'lockf', 'lseek', 'lstat', 'major', 'makedev', 'makedirs', 'minor', 'mkdir', 'mkfifo', 'mknod', 'name', 'nice', 'open', 'openpty', 'pardir', 'path', 'pathconf', 'pathconf_names', 'pathsep', 'pipe', 'pipe2', 'popen', 'posix_fadvise', 'posix_fallocate', 'posix_spawn', 'posix_spawnp', 'pread', 'preadv', 'putenv', 'pwrite', 'pwritev', 'read', 'readlink', 'readv', 'register_at_fork', 'remove', 'removedirs', 'removexattr', 'rename', 'renames', 'replace', 'rmdir', 'scandir', 'sched_get_priority_max', 'sched_get_priority_min', 'sched_getaffinity', 'sched_getparam', 'sched_getscheduler', 'sched_param', 'sched_rr_get_interval', 'sched_setaffinity', 'sched_setparam', 'sched_setscheduler', 'sched_yield', 'sendfile', 'sep', 'set_blocking', 'set_inheritable', 'setegid', 'seteuid', 'setgid', 'setgroups', 'setpgid', 'setpgrp', 'setpriority', 'setregid', 'setresgid', 'setresuid', 'setreuid', 'setsid', 'setuid', 'setxattr', 'spawnl', 'spawnle', 'spawnlp', 'spawnlpe', 'spawnv', 'spawnve', 'spawnvp', 'spawnvpe', 'st', 'stat', 'stat_result', 'statvfs', 'statvfs_result', 'strerror', 'supports_bytes_environ', 'supports_dir_fd', 'supports_effective_ids', 'supports_fd', 'supports_follow_symlinks', 'symlink', 'sync', 'sys', 'sysconf', 'sysconf_names', 'system', 'tcgetpgrp', 'tcsetpgrp', 'terminal_size', 'times', 'times_result', 'truncate', 'ttyname', 'umask', 'uname', 'uname_result', 'unlink', 'unsetenv', 'urandom', 'utime', 'wait', 'wait3', 'wait4', 'waitid', 'waitid_result', 'waitpid', 'waitstatus_to_exitcode', 'walk', 'write', 'writev']\n"
     ]
    }
   ],
   "source": [
    "print(dir(os))"
   ]
  },
  {
   "cell_type": "markdown",
   "metadata": {},
   "source": [
    "> Podemos trabalhar com módulos dos pacotes (quando disponíveis)."
   ]
  },
  {
   "cell_type": "code",
   "execution_count": 34,
   "metadata": {},
   "outputs": [],
   "source": [
    "# Importando o módulo request do pacote urllib, usado para trazer url's \n",
    "# para dentro do nosso ambiente Python\n",
    "import urllib.request"
   ]
  },
  {
   "cell_type": "markdown",
   "metadata": {},
   "source": [
    "http://python.org"
   ]
  },
  {
   "cell_type": "code",
   "execution_count": 35,
   "metadata": {},
   "outputs": [],
   "source": [
    "# Variável resposta armazena o objeto de conexão à url passada como \n",
    "# parâmetro\n",
    "resposta = urllib.request.urlopen('http://python.org')"
   ]
  },
  {
   "cell_type": "code",
   "execution_count": 36,
   "metadata": {},
   "outputs": [
    {
     "name": "stdout",
     "output_type": "stream",
     "text": [
      "<http.client.HTTPResponse object at 0x7fc4cc4e89d0>\n"
     ]
    }
   ],
   "source": [
    "# Objeto resposta\n",
    "print(resposta)"
   ]
  },
  {
   "cell_type": "code",
   "execution_count": 37,
   "metadata": {},
   "outputs": [],
   "source": [
    "# Chamando o método read() do objeto resposta e armazenando o código \n",
    "# html na variável html\n",
    "html = resposta.read()"
   ]
  },
  {
   "cell_type": "code",
   "execution_count": 38,
   "metadata": {},
   "outputs": [
    {
     "name": "stdout",
     "output_type": "stream",
     "text": [
      "b'\\x1f\\x8b\\x08\\x00\\x00\\x00\\x00\\x00\\x00\\x03\\xed}\\xebv\\xdbF\\xb6\\xe6\\x7f\\xaf\\xd5\\xefP\\xa1\\xd7\\xb1\\xe4\\x8eA\\x8a\\x94,\\xc9\\xb2\\xc4\\xb4l\\xcb\\x8e\\xd2\\xbe(\\x96\\x1c\\x9f39^^ \\x08\\x92\\x90H\\x00\\xc6E\\x12\\xd3\\xdd\\x0f0\\x7f\\xe6\\x15\\xe6\\t\\xe6)\\xe6\\x85\\xe6\\x11\\xe6\\xdb\\xbb\\xaa\\x80\\x02\\x08\\xf0\")\\xeed-\\xa7;\\x11q\\xab\\xdaU\\xb5\\xef\\xb5\\xf7\\xae\\xfd\\xef\\xfa\\x81\\x93LCW\\x8c\\x92\\xc9\\xb8{o\\xff;\\xcb\\xfa\\xd5\\x1b\\x88q\"\\x8e\\x8f\\xc4\\xce\\xa7\\xae\\x10b\\x9f\\x1e\\tgl\\xc7\\xf1A\\xc3\\x0f\\xac\\xf3Xx\\xee6^\\xb1<wG\\xfe\\xd9\\x95\\x7f\\x9e4\\xf8\\xfd\\xef~u\\xfd\\xbe7\\xf8dYy\\x83Yku\\rV\\xb5\\x84w\\xe9\\x9f\\xba\\x06w\\x19<z\\xa1\\n\\xc2\\x02L\\xf2=\\xfd\\xdf\\xca\\x06\\x87<d\\xb4Is\\xd0\\x9dm\\xb2!\\xc6\\xb6?<h\\xb8~C\\xf4\\xbd\\xe8\\xa01N\"\\x1a/\\xbd^h\\xf0\\xde\\xfe\\xc8\\xb5\\xfb\\xdd{\\x0cY\\xecD^\\x98\\x88\\xbe;p#\\xd1\\xb7\\x13\\xdb\\xea\\x07\\x13\\xdb\\xf3\\x0f\\x1a\\xe14\\x19\\x05~3\\x88\\x86\\r\\x11G\\xceAc\\x94$a\\xbc\\xd7j\\xd9\\xbe=\\x9e&\\x9e\\x137\\xf3WZ\\xe7qK6\\xd5\\x0c\\xd2\\xa4\\x17\\xa4~\\xdf\\x1a{\\xfeE\\xdc<\\x8f\\x1b\\xdd}\\xf5\\xac{Ov:q\\x13[8#;\\x8a\\xdd\\xe4\\xa0\\x91&\\x03k\\xb7\\xa1\\xe0\\xe1G\\xd4\\x93\\xe5~I\\xbd\\xcb\\x83\\xc6\\x7fZ\\x1f\\x0e\\xad\\xe7\\xc1$\\xb4\\x13\\xaf7v\\x1b\\xc2\\t\\xfc\\xc4\\xf5\\xf1\\xdd\\xf1\\xd1\\x81\\xdb\\x1f\\xba\\xf8R\\xb6J\\xfd\\x89\\xc8\\x1d\\x03\\xf4\\x08\\xc3I\\x9cQC\\x8c\\xf0\\xeb\\xa0\\x01\\x98\\xcf\\xed\\xeb\\xe60\\x08\\x86c\\xd7\\x0e\\xbd\\xb8\\xe9\\x04\\x13\\xbe\\xd7\\x1a{\\xbd\\xb8u\\xfe%u\\xa3i\\xab\\xdd\\xdcmv\\xd4Es\\xe2\\xf9\\x0c\\xfb\\xdd\\xb4\\x9dzh\\xbd\\xddi\\xb6U\\xf3V\\xea\\xe5=\\x18\\x93\\xe2\\xdb\\x13\\xf7\\xa0a\\x87\\xe1\\xd8s0\\xe0\\xc0\\xb7\\xe8\\x8e1\\xe8\\x93|U\\xcc\\x19\\x93\\xdfMb\\xf3\\xcb$\\x08\\xc6\\x89\\x17\\x1a\\x1f\\x9f\\x8d\\\\\\x11\\x0c\\x06\\x9e\\xe3\\xd9c1\\n&t%\\x12\\xdc\\x94\\xad\\x8a\\x93(\\x18F\\xf6\\x04C\\x1f\\x8a\\xd7@\\xa6\\xd4\\xe6\\xe9eD\\xe1\\x85\\xc9\\xc1s\\xadI\\xd0\\xf3\\xc6\\xaeu\\xe5\\xf6,\\xf4j%^RX\\x9d\\xb9\\x80\\x12\\x983-8vh\\x17Wx\\xeaf\\x0b\\xb0\\xa8\\xfb8\\xb1\\x934\\xb6zvd\\xc5\\xc9\\xb4\\x00Iol;\\x17\\x19\\x96\\x18\\r]z\\xeeU\\x18D\\x891CW^?\\x19\\x1d\\xf4\\xddK\\xcf\\xc1\\xd0\\xe8\\xe2\\x91\\xf0|/\\xc1\\x84Y\\xb1c\\x8f\\xdd\\x83vs\\xa3bJ~\\xb4\\xfd\\xfe\\xc8\\x1d\\xf7_F\\x1ex\\xcbxjNz\\x94VM\\xe2 \\x88&vb\\xf5\\xdd\\xc4uh\\xa1\\x8d/\\x12w\\xec\\x86\\xa0=\\xf7\\xc0\\x0fj\\xe9\\xc2\\x01&G\\xc4\\x19\\x8d\\x0f\\xd1J\\x1d\\x19y\\x13\\xac%a\\x04f\\xc8\\xf8b`\\x8f\\xe3\\x9c\\x82\\x143\\xb0\\xe3\\xa9\\xef\\xf0\\xaa\\xeb\\x7f\\n\\xf4?q\\xfb\\x9e\\xddt\\x93\\x11Ptl\\xf7\\xe3\\xa6\\x17\\xb4\\xf8^\\xcb\\x19c\\xf4I\\xeb\\xb2\\xdd\\xdcjn\\xb4\\x8c7\\x141\\x15\\xda\\xf4@\\xc6\\xc3\\xc8K\\xa6\\x07\\x8dxdw\\x1eo[\\x1f6G\\x7f\\x7f\\xe1\\xf5\\xd3\\xfe\\xb1}\\xfd\\xec\\xc5\\xd1oW\\xaf~:\\x0c\\x7f\\x1a\\x9e\\x1c\\r:\\x93\\x8f\\x17\\xdb\\xce\\xe0\\xcd\\xc7\\xe1(:\\xb4\\xb7\\xbd\\x8d\\x03\\x81o6w\\xb7\\xac\\x0f\\xce$~\\xfe\\xc5y\\xfb\\xfe\\xf4\\xf5\\xc7V\\xff\\x97\\xcd\\xd7A;x\\xeeuZ\\xbf\\xd8i\\xf4\\x9f=\\xaf\\xb7\\x1dn\\xfd8\\xfdp\\xf4\\xce=\\xb6[[\\xef\\xc28\\xf2S\\'J\\x87\\x87\\xee\\xe0\\xb7_\\xfe\\xc7O\\x83cj\\xe7q\\xbbc}\\xd9J\\xda\\xaf\\xb7\\xae\\x8f\\xce_\\xfd\\xd2y\\xbf5\\xfa\\xed\\xcbs{\\xab}\\xb2{\\x1e\\r_~8\\xdd\\xbd>\\xeb\\xedF\\xfd\\xb7\\x97[/_]^\\xed\\xbc\\x0c\\xa7\\xfd_\\xce[\\x17\\x17\\xd7\\xcf~\\xfa\\xf1\\x9dg\\x07\\xd7?\\xda\\xbb\\xc1\\xf8\\xb9s\\xdd>\\x1d_<\\xf9\\xfb\\xf7\\x9b\\xf1\\xdb^\\xfcf+\\x1d\\x1e\\x1c4\\ncv\\xa2 \\x8e\\x83\\xc8\\x1b\\x12\\x83\\xb5\\xfd\\xc0\\x9fN\\x824\\x96\\xef\\x18\\\\\\x92\\tN-\\x06O}\\x8b\\xd0\\xdbs\\x88\\xcb2\\xc3\\x9a\\x04}7\\xf2\\xbd\\xdf\\xa2J\\xf6\\xca\\x8cPq>\\xf5!\\xd3D<r\\xdd\\x04|\\x9a~77v\\xed\\x8d\\x9d\\xdd\\xfe\\x86mot\\x9aN\\x1c7$\\xeb\\xcc_l\\x08\\xc2\\xae\\x83F\\xe2^\\'-~\\x81\\x17\\x19p\\x8f\\xc7xF\\xe4~\\xd0\\x80\\xdc\\xb0\\xd31(\\xa8e2\\xca\\xfa\\xbe\\'_\\x9aOv\\xfb\\xdb\\x1bO:\\xbd\\x8e\\xdd\\xb7W\\xeb\\xd8\\x0f\\x12\\x11F\\xc0\\x9bG\\xa2\\x17\\xd9\\xdex\\xec>\\x12\\xee\\xa4\\x87)u\\xfb\\x8fD\\x1c\\xba\\xae\\x03rM\\x12P\\xdf\\x92\\xe0@[\\x00D\\xbd\\xc1\\x86\\xb3\\xd5y\\xec\\xf4{;\\x9b\\xabA\\x845rI\\xde\\xaa\\xee\\x94 R:\\xca\\xfa8qYd?|\\xb0\\xfe\\xdd\\xf1\\xd1\\x1b\\xe6\\x97\\x0f?-7Qw\\r\\x19\\xa1\\x94d\\xe4\\xa6\\xf6\\xc3\\x88\\x96\\xcbMs\\xf1W\\x91\\x9c\\xb9t\\x830\\x99\\xb8@\\xb1I\\x10$#\\xdf\\x8d\\xb5l%yG8\\xa4duY\\xa8z\\x10\\xea\\x1a\\xdf\\x98S\\xb5\\xae-y\\xaf\\x88J\\x03\\x1b\\x8c\\x19J\\t\\xfe3+\\x99\\xa5PI\\x82\\xd4\\x19\\xf1\\xc7\\x16\\xd4\\x00\\xc8\\xf90\\x00z@\\x85\\xf1~s\\xa1\\x1f\\xb6\\xb7\\xb6\\xae\\xf1o\\xa6\\x19(\\xfa\\x98\\xf9V\\xbdg\\xb6\\xd1\\x0c\\xfd\\xe1M{m\\xa3\\xd7\\xf6\\x12\\xbd\\xca\\xf7\\xee\\xa8\\xd7\\x9d\\xce\\xf5Ng\\xe1H\\xf9\\xad\\xdb\\xf6X\\\\\\xa6\\x99\\xd94Vb\\xb9Y\\\\\\x08\\xf5l\\x8b\\x8cS3\\xbaJQ%:\\x03\\x05\\x1e\\x13~\\x19\"P\\xf3V(\\x06Q \\x11G-\\xbe\\x04\\x95\\xf4gq5\\xf2@\\xcc\\x90\\x15\\xb0D\\xc8l`\\xc21T\\x89\\xd9n\\x9e\\x07\\xe3\\xc0\\x94\\xb4\\xf77\\xb7w6\\xed\\xc7P\\x86\\xa9=\\xa99\\x8b\\xde8]\\xa6=\\xdf\\xbe\\xec\\xa5I\\x02\\x94v\\xeaZU\\xac\\x87\\xd9r\\xf7\\xa3;\\x06\\xe2\\xbb\"\\t\\x94fGZ\\xfc~K>4up\\xa9\\xcf\\xf5])k\\x8aZ\\xc8\\x1d)\\x8b\\x17\\xee\\xf4*\\x88\\xfa\\x10\\x1f\\x99\\xe2\\xae\\xb4\\xcd\\xd0\\xd06\\xc9t!mS\\x04\\xbds\\xe8C\\x022\\x12\\x9a\\x84\\xdb\\x17P/\\xc5\\x00LV\\x04\\xa1\\xeb\\x8b8H#\\x07\\xeb\\x10\\x0c\\x92+;r\\x05\\xb4d\\xd7\\x8f]\\x01#1\\x9d\\xe0\\x03V\\x99qu\\xe5\\x8f\\x03\\xbb\\x8f\\x1e\\'\\x93\\x14\\xda\\xdb\\xb4\\xc8wx\\xdd\\xd0{\\xe8B\\x81:h\\x04\\xc3\\xbd\\x92\\x1e\\x85Nc\\xacwA\\x99*\\xbcOO?/\\xa7\\x99\\x17\\xfb))\\xc9\\x95\\x0bU\\xdf\\xed\\x9d/\\x94\\x81\\xc7\\x058\\x99\\x07\\x1b+\\xa6M\\xbf\\xab\\xab+\\xd3\\xe8S\\xcc\\x93\\x96\\x06vC\\xa8\\xd8ngc\\xe3\\x1a\\xff\\x9a\\x84>;\\xe3\\xdc\\xc3^\\xec:i\\xe4~N#h\\x14\\x19z\\xdc\\xb2\\xb3\\xba1-\\xd5\\x89F\\x14C(\\xda)\\xec`P\\xb2bq\\xa3tb\\xfbq3\\xb9N\\xaa\\xde\\x85\\xc8\\x8f|\\x1b\\xa8\\xa3\\x94\\'\\xc3\\x1ekEq\\xfc\\xfd\\xf5$\\xd7\\x9d\\x14\\x19\\x1c\\xf9#\\xdbw 6\\xfd\\x84\\x0c0\\x88+\\xe8\\xe4\\xa6\\xda(;\\xd6\\xb3\\x12\\xbaa\\xc1\\xf0\\xe6k4]!\\x99n\\x00\\xccOAO\\xbc\\x0b\\xc9(\"\\xba\\xf1`\\x7f\\x19\\xfak\\x11\\x90\\x12.\\x9c\\x07\\xd0K\\x07\\xae\\xdb\\xa7q\\xb6\\xee\\x06\\x9aSM\\xe7/\\xc9\\xa1 \\x89\\xfb\\xad{5\\x07(\\x02 n\\xd2\\x7f{i\\xe4\\xbb\\x11\\x1b\\xfar\\xa2ucy[\\xdc\\xd4\\x8c\\x81o\\xdf`\\xda\\x8e\\xfd\\xd8\\x83F^?Ys\\xe0\\xd2\\xdf2 &\\xde\\xdd\\x00\\x8e\\xf7\\xb0\\x1c\\xed\\xb8\\xb0js\\x17MsJ\\xb9r\\n\\x8d\\xa4 5\\xc4\\xa9\\xb2D\\xa49`b\\xf4\\xb8\\xff\\xfdy\\x9c\\x19\\x9d\\xe2\\x1f\\x1aW\\x1a\\x7fcb\\x06\\x89\\xec\\x89\\xccm\\x14;\\xd0\\rm\\xf6\\'=\\xca_d\\xce\\x8b\\xb7>\\xba\\xbdSb\\xb9\\xf9#\\xa2W\\xe3\\xf3\\x12\\xba\\x19/\\x86\\x01\\xf9\\x83`\\xa1\\x1fJCz/\\x07D\\x88\\xc6\\xdft\\x0f\\xa7\\xb0\\x97\\x9d\\x91z\\'\\xeb\\x06o$v\\x04\\xd3xN_1\\x7f\\xd9\\xfa\\xe1\\xcb\\xc1?\\xe4\\xcf\\xcf\\xa0\\xf2\\xc9\\xe78\\x81-2\\xfcW\\x0e\\t\\xdabG\\x92\\xe5\\xf9a\\xca\\rF\\xe4\\xc4\\x8a \\xc6X\\xd0\\xce~\\x9c!\\xcc\\xbf\\xe4\\x8c\\xc8?%w\\x99dh\\x85E`\\x9b\\xec\\xdc\\xbe\\xb4\\xe5]\\x85\\xc4\\x97v$>\\x0f\\xed/\\xe2@\\xfe\\xf9\\xe7?\\xc5\\xaf\\x9f\\x9e\\xf2\\xe7t\\xbb\\x19\\xa6\\xf1h\\xfd\\xd7\\xb5\\xcf\\xf0\\xba\\x1d:\\x0eH*Y{$\\xd6\\xe0^\\xdb|\\xb2\\xf1\\xf8\\xf1\\x93\\x9dM\\xab\\xbd\\xf6\\xe9a\\xc5\\x07I\\x04\\x0f\\xca\\t\\x186yL\\xf8\\x15nt}\\x90\\xfa<\\xe5\\xeb\\x0f\\x8d)\\'(\\x866`\\xd0B\\xb9\\t#\\t,\\xf1h\\xcc<n}M\\xc2\\xbc\\xf6\\xf0)^k\\xb2o\\xf7@\\xac\\x95F\\xb4\\xc6\\x0f\\xd9\\x11\\x81\\xa7\\t\\\\(\\x12,\\xea\\x16\\x0f`\\x14\\xe3\\xf6\\xfa\\x9ad\\x8ak\\xe2\\xc0\\xe8m\\x1cH\\xcfY\\x13\\x12-\\t\\xa00\\x89\\x1f\\x84z\\xb1\\xd5\\x8a\\xe3\\xf1\\x9a\\xd8\\x93\\xd7pe\\x02\\xa9\\xd6\\x1e\\x8a\\xef\\xc5\\x9a\\xf2\\rZ\\xb9o\\x93\\x18\\x07z:\\x8f\\xd7\\xf2\\x9eih\\xb192\\xe0\\x8d\\x1aV\\xfclzf\\x0f\\xdfb\\x99\\xf3\\x01\\xfe\\xba\\xf1\\xe9\\xa9\\x00\\xb3\\x86\\xa6\\xe2\\'oa\\xb27=(+Q\\xf2\\xcc\\x85\\xf3\\xc7]\\x1f\\xda0Z\\xd5t\\xff\\xeb\\xe1\\xba\\xfa\\x95/>\\x8d\\xf5\\xde~K:k\\xef\\xed\\xf7\\x82\\xfeT{\\xb9\\x95\\xfaH.\\xbc\\x86\\xf0\\xfa\\xf0\\xcd\\xe2W(\\xbdu\\x12]\\xfa\\xde%?`s\\x08\\xfa\\xa3u\\x05\\x01\\r\\x85G\\x0b-j|_\\xbf\\xe4\\x07\\xf0t\\xea\\xb6\\xfb\\x81\\x05C\\x1b\\x06\\x01\\x0cm\\x85X\\xf42\\x7f\\x10v\\xf7\\x81\\xf5\\x81?\\xec\\xbe\\r\\xe0\\x8fp\\xf7\\x00\\xad\\xbc\\x16\\x1fG\\xd0\\xad\\xc5O\\xc0\\xc9S\\xe9R\\xf6bA\\x06;l@I\\x9d\\x02\\x83\\x86\\xb3\\x11\\xb7\\x95z\\xf5HL\\xa1\\xce\\xc1\\xbd\\x06j\\xb2\\x19\\x8f\\xc4\\x95\\x97\\x8c\\xd8!\\xa9\\x94\\x01\\xdc\\x18\\x8fE\\x8f\\x14\\xbd\\t\\xb8C\\xbf)N\\x98\\xc1\\x89\\x04\\xdc\\xdd\\xec\\x0c\\xdf\\xca\\xe6]1H\\xf1\\x89{\\x8d\\xb1B\\x85t\\xdc\\xa6\\xd8o\\x85\\x92\\xc9\\xf3\\x10Z\\x18\\xb4\\xb2B\\xf9Z\\x19\\xeb\\xdaVW\\xe69?\\xd2\\xd3\\x13\\x8c\\xfb\\x1e\\xbc\\x816<.\\xb0\\x00\\x97\\x9b\\'\\xcd\\xe1\\xa8!\\xfe\\xa7v\\xe2\\xfe\\x8b&\\xa1\\x17\\x05W@\\r\\x81\\xd9\\xd9w\\'](\\x04\\xa4\\xff\\xee\\xb7\\xf0[\\x8fy\\xb6E8\\xca\\xd9\\xbdMT\\x00d\\x96m\\xc0D\\t\\xa7,\\xf6\\x1a\\xdd4\\x84Z\\xd6g;\\xc0\\xc6\\x9e\\xc0\\x00>~\\xd22Tg\\xfb-\\xbbK\\x8f\\xf2\\xb9\\xc2[=7\\xc1r\\xd0\\x125\\x0b\\x1dVMb64\\xd3\\xa5\\x90}\\xc5v\\xce\\xa9\\x17Ss\\xc4\\xda\\xc5k\\xda\\x0f\\xc8\\xac\\'\\x9e\\x93\\x1cK\\xc9M-wp\\x92 $7.\\xd8G\\x01\\x0f\\x8b\\xd0\\x00\\xa3\\xf5\\xfb\\xa4[\\xc2K~\\xe9\\r\\xa5\\x82@\\xa8\\x83\\r\\x0c\\xa0\\xba\\x88\\x02\\xf2Q\\xe5\\xcfL\\xe4\\xd7\\xc0\\xcfN+\\x01\\xa5`\\x89/\\xbc\\x90\\xf71\\x84\\xf4\\xf4X\\xe0d\\x90\\xf3\\x16\\xcb\\xb6\\x1c\\xa9t[<&\\xbd*\\xf7\\x15\\x0eg\\xbe\\xb2S4F\\xf3\\xad\\xefwK7h=f\\xa1)\\xe1k=\\xd86\\xd3\\xbb3\\x86\\xbb\\xc3\\x92\\xfc\\xc1\\xf2\\xdd\\x04\\xb6\\xd7E6\\xb5\\xe7\\xe9D\\x0eGk\\xb3\\xf7\\xcb/\\xda\\x91g[#\\xaf\\xdfw\\xe1\\xa0$\\xb6[7\\xca8\\xb4}1\\xfb\\xb6\\x9e8\\xf6\\xbf\\xd8\\x11\\xb0\\x1a\\xfbIWpK\\xef\\xd3\\x07\\xdd\\x07\\xf7\\x9floo<\\x05\\xd7\\xa0+\\xf5G<\\'\\x98+F\\x8e\\xe9\\x98\\xb9{\\xef\\xde~\\x9am\\xf6A\\x9e\\xa4z\\x95\\x13\\x18\\x89\\nX\\xfe\\x08\\x9aT\\x91[Zl\\x84\\xc0\\xde \\x1a\\xf8\\x0c\\x84\\x9c\\x88\\x18\\xea\\x92\\x03\\xb6\\xa2o\\xc2\\xab\\xe8;\\xa3\\xec\\xb61\\xf6lU[\\xd9r\\x92}\\xacT\\xf8\\xca}\\x13\\xdd\\xfbj=\\xca\\x163T\\xd8\\x87\\xbfW\"\\xc5\\xcc\\xa0\\xe2\\x81\\x1cQ\\x15\\x945&T\\x18\\x0f*\\xe1\\xaf\\xd0\\xb3\\x1b\\xa2{r\\xfar\\t8 \\xe5\\xe3\\xc5\\x80\\xd0[\\x86\\xe5\\x98M\\xa2\\x9a\\xc0\\x17\\xa6\\xfd\\x8e\\xaeq\\x1d/\\xd1w8\\r\\xbd\\xc5}\\xd3[\\xa4v\\xe6C\\xd7\\xcb\\x06\\xad\\x86|\\x0e\\xc7~\\xdf\\xbd\\xa6\\x01OO\\x8e\\x97\\xe8\\x95,\\x9d\\xfa^[l\\x08\\x95\\x07Hv\\xd5\\xb3\\xc0\\x8e\\xe0\\x88\\xec\\xe2\\xf72\\x83\\x8bG`\\x84\\x8c\\xb3U+\\xdc\\xca|\\x1b\\xe8Kt\\x9fkOG\\x15\\xfc\\xfb\\xad\\x14[\\xe7\\xb3\\xb4\\x04\\xa4&\\x96Q\\xe6\\x01\\x8a\\xf7\\xcd2\\x0bp\\xe6F\\x05\\xcd\\xcf2-\\xa6\\xbf\\xe59D\\x1a\\x9a\\xfc\\xe1\\xf1\\x0c\\x7f0(\\xed\\xad\\xe4h3l\\x81\\x87]\\x14\\x11-\\xf0}S\\xd0W\\x08~\\xf1#\\xb3s\\x016@\\xaaiI8\\x91\\xe2\\x85\\x87j:hS\\xdc\\x92\\xb74\\xcb\\xe9\\xd9>\\x89\\x99\\xe2\\xf8Y\\xa6\\xa9orQT\\xc1\\xc9\\xf6G\\xedL\\xcc\\x80\\x1bq\\xdb\\x105\\xb5\\x1cW\\xcb\\x15\\xc8\\xf5}o2,1\\xb7q0\\x0c\\xd4>\\xbdvh\\xe2\\xa5\\x96Z[z\\xca\\xfe\\x18\\x01\\xebV\\xaf\\xf8\\x03\\xa8\\xf5}\\xf7)m\\xcfW\\n\\x9eQ\\xbb\\njcxAHJ\\x9b\\xdct\\xcd\\x86Z\\x96\\xdb\\xa6l\\xd4\\xbf3n\\x9a95\\xe2\\xc1\\x04;9\\xb0\\xd7\\x89N\\x1d\\x0f^\\xfeh\\x02\\x14\\xf7ab\\xc1\\xf3\\xe9\\xb6\\x00\\xaa\\x1fCI\\xfc!r)f\\xa0\\xfd\\x00\\x88\\x0b\\xd7\\xb6\\x9a\\xe7~@>\\x17K\\xfaH\\x1b\\xe0\\x1etY9*\\xc6\\xcc\\xea!\\xd4H:\\xfab\\x06\\xdd\\x8c\\x81\\x10\\x05\\x91;\\xd0\\x9a\\xd8Z\\xb6\\x9a\\x04\\x94`\\x87\\x89\\xa5\\x94T\\xd5\\xee\\xebW\\x15\\xc6g\\xd8\\x85w\\xe4\\x8eG\\xf7\\x01\\x07>h\\x19)\\xde\\xe0\\t\\re\\x9f6\\x8c3\\x84a\\x8b\\xd4\\x82\\xa6l\\xb1\\xa3RH\\xfd\\x996\\n\\xa5\\xadJ\\x9bup[\\x0162m\\xab)4\\x1b\\xc4\\xc0\\xc3\\xce5\\xa6Uo\\xeaIK\\xd9p\\x1d\\xa3\\x81\\xda)\\xc8ZY\\x86\\xde%t\\x1c\\x10B\\n\\xc0\\x12\\xad\\x8e\\xed\\x9e\\x9b\\xc9\\xfb\\n%\\x8c\\xd4\\xfe\\x83\\x86\\xd7\\xb7d\\xd3\\x16\\x8f\\xa5\\xd1UC8#s\\x83\\x94O\\xc8Qjh\\xfeD0r\\xb0\\xed\\xce|\\xb1\\xdc\\xa8\\x8a~\\xf8\\xa2}{j0J\\xcb$\\x95\\xb0\\x17@\\x8ch\\xd5Q.\\x91\\x84G\\x84\\x88ApG0$\\\\@+\\x81k\\x88K\\x1b\\xee\\xff\\x83\\x06\\xda\\xb3{\\x1e\\xc9 lO-5\\xd5\\x12\\xd1\\x95\\x8b1N{\\xb0\\x8d\\x1a\\n:}\\xc5h\\xa9\\x9e\\x14!RT\\x92-6\\xbf$\\r3\\rX\\x0e\\xcf\\xe6\\x02\\xdc\\xd1\\xab\\xff\\xea\\xddb\\x04i\\xc9\\x9e\\x97X\\xf5\\xc5m)\\xab\\xed\\xf8\\x08\\xe1Pr\\xc5\\xf2\\xcdj\\xb0A\\xda\\xe1\\xc6\\xe6\\xb4\\x17c\\xde\\xa7{\\xb0C}\\xf09X@1\\x05\\x98`f\\xf4/\\xb9-H\\xd3n\\xac\\xc1\\x16\\xed\\xd1\\x18!bs\\xa1\\xd9oi\\xea\\xa9\\xc7-\\xbc\\x03\\xda\\x95*\\xb0F\\x8f\\x1e,\\x89\\x0b\\x12\\x1eZ\\x176\\x98\\x92\\xdd?O\\xe3\\xc4\\x1a\\x80\\xfd\\x81\\xbc\\x7f#\\xf2^R-\\xcf\\x881\\xd7\\x91\\r\\xcbH2\"n\\x8b\\xa9\\xe1\\xa0q\\xc8=\\x893\\xe0.\\xc8\\xe47\\xec\\xb2\\xf8\\x82\\xfc<K\\xac\\xba\\xa1_\\xc3O\\x1cYm\\x84\\x9f\\xc5@C\\t\\xaa\\x1d\\x87A\\x98\\x86sm\\x08\\r\\xac\\xc1L\\x15\\x93\\xcc\\x88H\\xb25\\x0bR`8\\xe4\\xc9R\\xde\\x86\\xfdx\\x82(\\x84\\xee!&\\x8f\\x7f\\x08\\xfa%\\x1d\\x11\\xb5l\\x7f\\xa6\\xbb|\\x8e@(dP\\xf2\\xfc\\xd4/\\xe3L\\x03\\xb9\\x85\\xc13\\xd0\\xd1z\\x84\\x05t\\x92\\xa6\\'\\x19%di\\x00r\\x98\\x1e\\xca\\xbe\\xc5d[\\xf1\\x08\\xee\\x15\\x18f*\\x8c\\xe2\\rpA\\xad\\x02\\x8d\\x87lW9\\x15\\xb9\\x8fo\\x0f\\x82\\xfaT>dq\\x90\\x19\\x06e\\xb0\\xaa\\xae\\xcb\\x8b\\x95\\x83\\n!\\xba\\x00\\xd4!\\x8c\\xb8\\n@_\\x93\\xd7\\xb4\\x06N\\xf9\\xec.\\xc1\\xdc\\\\\\x08&+\\x06\\x19\\x9c\\xef\\xe9J\\xd8\\xfe\\x14\\xf2\\x01\\x1e\\x0f\\xa2\"\\n8\\xf4\\x87n,\\x8e\\xc5\\xc8\\xbet\\xc5\\x04\\xcaO\\xf54\\xf3\\xc7\\xabA/U\\xec\\xaa\\xa97\\xef-^\\xb4\\xf9\\xedH\\xe7\\x95\\xa9\\xbf\\\\\\x01\\x8b\\xe8_\\xcbO\\x11\\n\\xc9\\xffY\\x80\\xc1\\x86\\xf9<\\x975\\x9c\\x06\\x1c%\\xf8\\x86b~\\xc4\\xdb\\xcc\\xbd\\xb2\\xa0u\\x1am\\x19\\xd9\\xbe\\ng\\x90\\xe0b\\x99\\xff\\xb8\\xf4?\\xbb\\x13C\\x9e%\\xcc\\xaf\\xcf\\xee:\\xfc\\x0b\\x9dh\\xaaUv\\xbd\\xc7\\r1\\xa0\\xf7\\xbeX\\xf3\\xaf\\x90\\x05\\x9a\\xb3\\x0cl1\\x00kW\\x8dZ\\xf1\\x97\\x14\\x9eg\\x920^\\x97|on\\xff\\xd8_\\r\\xab\\xabVs\\x11\\xeb(\\x8er\\x80\\xe0\\xac$\\x80~\\xce\\x8a\\xfd\\xdf`\\xc9\\xc1\\xab\\xa0u\\xdfY\\xa9\\xa6G\\xc2\\xee\\xa3\\t\\xe4\\t}\\x9a\\xc9\\xc87\\xea\\xc6]\\x0e\\xa2\\x9a\\xb1\\xc8A\\x186\\xb6\\x1794\\xfb\\xcb\\xe8\\xb8\\x14\\xad\\xe0\\xc3\\xd9\\x9f\\x81\\xfd|d#\\xa0\\xc1\\x17\\xc7\\xef\\x9f\\xdf%\\xe4\\x88&\\xaa\\xe0\\xdc\\xc5\\xe9O\\xe0P\\x87\\xff\\x95\\xf1k\\xa5\\xb9W\\x1ffc8\\x93\\r\\xad\\x06\\xff|f\\xa6\\x19\\xe3\\xdd0\\xc5Z%M\\xae\\x19G\\xb6S\\x14>\\xf6\\xe6\\x9cq\\xda\\x87v\\xd8\\xa2\\x8d}\\xda\\x9a\\xc0v\\x11\\x02\\xc42\\x9b\\xa4\\x8a\\x89+\\xc6K\\x1em\\x84\\xf7\"\\x16%3|\\x0b\\xfe\\xec|H\\xc5M\\x86\\xec>i\\x19\\xa4\\x99\\x933\\x01\\xbf3=G\\xbb`r/6\\xbb\\x1b\\x0c\\x06]\\xf0\\x86W9\\xb6\\xab\\xc0\\xae\\x9d\\x14\\xd3\\x89:#\\x05$V\\x912\\xc4\\xb1\\xc2\\xa6\\xbe\\xf8\\x06P\\x95\\x85\\x01w\\x92\\xff\\x87\\xb8?\\r\\xd1F\\x12\\x00EV+\\xa5G\\xaa\\x88\\xca\\xd1\\x02eQ,\\xd2\\x14s\\x8f+\\xb7\\x94{\\xd4\\xb26\\x1b\\xddCzR`\\xf8\\x85\\x11\\x17|\\xc5\\xa6\\x8e\\xa7\\xe6\\xcf\\xd0\\x87+\\\\\\xdeYSey\\xb6H\\xcfS\\xccC\\x82\\x8d\\xdd\\x18\\xc3\\x1b\\x08\\x90\\xf3\\xd0~v\\x02\\x96\\x1c\\xbc7\\xe7\\xb8-\\xd9\\xdf\\x97\\x14\\xbb\\xe1\\x85\\x1e\\x7f\\xe6;+\\xf75\\x971\\xca\\xbe\\xe0ZH\\xb0#\\x86(\\xa0\\x08\\x14d\\xacP\\xf7\\x95|\"N\\xe5\\xa3\\x95;\\x9f\\xc7\\xdb\\xd4@\\x11m\\x1f\\x9a]\\xfe\\x88\\xeb\\x95\\xfby\\xbc\\x80\\x87\\xca]5g\\x84 \\xa5&F+\\xc9\\x14\\xbb\\xb8\\x83\\xc0\\xecZ\\xb9\\x93\\x9fE\\x01\\xbfY\\x82By_5}2Z\\x95V}\\x96z\\xb2\\xc0\\x8c:\\n\\xea\\xacBAy\\x98G\\xa6 \\x1bT\\xf4B\\x85\\xcb\\xe5N\\xe9\\x8c\\xa23\\xa0M\\x86\\xf1\\xd5)\\xa9\\n\\xfc\\xee!vy\\x91\\xec\\xc3\\xe1.+\\xaf{\\xb5\\xd5\\xa3\\x087\\xefN\\x86\\x1b\\x9aK}*\\x03\\x10\\x1d\\xc8\\xf7\\x95;\\x9dKQy\\xa7P\\xe7qQ \\xe1\\x8f\\xf2\\xd6\\xca=\\xce%\\xa3\\xbc\\xc7\\x89\\xed\\x04\\x85\\xfep\\xe3\\xdd\\xe9\\xca\\xbd\\xcd#\\xa6\\x96\\xee\\xad\\x85\\xb8p72\\xa7\\xf4\\x1d\\xdd\\xc0\\xbe\\xbe\\x9d\\x90\\x97d\\xf5\\xb5\\xdc^@\\xc3\\x94\\xb2V\\xda~jm\\xc2z\\xe6\\xc8\\xd1&\\xe9\\x049Q@O\\xe6\\xdb+\\x8f}g\\x0e\\x10\\xf9\\xd8uh\\x99w\\x89\\x10-m\\xfbC&\\xa8H/\\xdc\\x16\\xc7\\x13dF\\xd1f\\x04of\\x97g\\xe3\\x86\\xbc\\xc4\\x08\\x8e\\xad\\xe3\\'\\x9b\\xab\\xf1\\x13h\\xc3\\x19\\xfcZ\\xc6\\x93\\xe3\\xdd\\xe8\\x89\\xe60\\x93\\xa1\\x7f \\xb9\\x0c\\\\0\\xd1Oo5\\xde\\x9d \\xa6\\x0eH\\xb7S\\xbe\\x1d\\xaco\\xdaG\\x8a\\xd4/^\\x9c\\xc2\\xa0>\\xb3\\xc7\\x17\\xe5e\\xd5l\\xb6^\\xd3\\x98\\xc7;\\xb2\\xcd^\\xef\\xc23\\xa3s\\'\\x81\\xe7\\xb7\\x9e\\xb9\\xc85\\xc2.U\\xfc*E\\x84\\xa2\\x01\\x94~\\xf0\\xe0\\xfeug\\xe7i,\\xf8\\xf9\\xcax?\\x8f\\xc3h\\xb8\\x90M7\\xa4\\xc6M\\xd8\\x0c@^\\xb8\\x97\\xee\\x98b\\xb1o\\x07\\xc9<\\xee\\x93AR\\xdc\\x85n\\r\\xec/&*\\xbc<\\xfcy\\xe5\\tX\\xc4}(\\xc8\\xacj]tz\\xa5\\xc9\\x07\\xde\\xc2\\xe8=\\xf2\\x87c/\\x1e\\x89\\x1b\\xa1\\xe5<.T\\x13?l,\\xc4\\xc9\\xd1\\x89\\xdc\\n_y\\x12v\\xe7p\\xbf\\xb9\\xd8)5\\xa7gApa\\xce\\x83\\xd6\\xa7\\xe8\\xf6\\xca\\xb0<\\x99\\x03\\x0b\\xc9\\x81\\x16\\x02\\xd2\\xeciA\\xdc\\xa9\\xfe\\x8e\\xf8A\\xa9\\xc3\\x1bq\\xdclo\\xbe\\x8e\\xdbn\\xad\\xc2m\\xcd\\x9d~\\xcdSr\\x9e;\\xbb\\xf3\\xff\\x07\\xd3\\xder\\xf0a\\x14\\x83\\x11!\\x1d\\xa3\\xc0\\x7f\\xf5\\xcd\\x95Wz\\xae\\x12\\x97\\xf7\\nrB\\xd2\\xa3\\x81\\xe70b\\xe1#C\\x863=X\\xb9\\xd7y\\x9c\\xb8\\xec0\\xcaE\\xc0\\x8c\\xefg\\t\\xebr\\x1eo5z\\x82\\xd6\\x94N\\n\\x03|\\xc9wV\\x1e\\xd9<\\x0e\\xda\\xa2\\xd0!\\x84;@\\x82!\\x06\\x8e\\xf2\\x03Z\\x9d\\x8dN\\xbb`\\x05\\x9d\\xbe\\x14\\x87\\xfc\\x06)1\\xd8\\xb9\\x11\\xef\\xf9\\xc5\\x95\\xe1\\x98\\xc7R\\x8dqSd\\x1b\\xc5\\xc8T\\x91\\xf2\\xf3\\xc0\\xe7XG\\xe7\\x06\\xb6\\xc1<&jt\\x1f{\\xc3B\\xcf\\xa7\\xa1\\xcb\\x0e\\xf3c\\ngu\\xb1\\xa9\\xf6*\\n\\xd2p\\xf5U\\x98\\xc7K\\x8d\\xee)\\xa2\\xa3j\\xe4\\xafq\\x7f\\xe5\\x19\\x9f\\xc73\\xe7\\xf2oSzpa\\x02\\xf1\\x11\\xc2n\\xe5\\xfe\\xdb\\x1b\\xf3\\x986\\xa1\\x1e\\xfc\\xc1\\xfd\\xd41\\xbd@\\x08yBd+\\xea\\x17`\\xad\\xe9\\xd1\\xea\\x9dV\\xef\\xd2\\xcd\\xb8~m\\x04\\xfeR\\xfaZ\\xa6\\xcee\\x1cW\\x1c\\xf2\\xa3\\xd5{\\x9e\\xcb\\xb9h\\xb8\\xf05\\xc0Qy\\x19\\x8c/g\\xfc*@0y\\x7f\\xf5n\\xe7\\xb2.9\\xcb*_\\x0e5\\x14(\\x03\\xaf\\x88\\xe0\\xa8\\xd7\\x81L\\x86S\\xf9\\xa4\\xd4\\xfb\\x8d\\xc4d\\x9c: \\xd0XwV\\',\\x1f\\xaf\",Km\\xe6\\x0c\\xaa\\xae3\\xec\\xaaJ0\\xcc\\x91\\xfd\\x11\\xed\\x96\\xf2\\xc8\\xc8m=\\x0cP\\xb6\\x04\\xde\\xb7\\xc2B\\x1d\\xe2ze\\xe4\\x98\\x8b\\x92\\xb5]\\xf7\\xd2\\x18\\x11k\\x94\\xef\\x95\\x93\\xc73uoe\\x10\\xe6\\xa2g-\\x08.\\x88\\x9fme\\x13\\x86#}se \\xe6\\n\\xddz |XY.2\\x0e|#\\xca\\xb4\\xd1\\x852\\xafo\\xaf\\x0c\\xc8\\\\i\\\\\\x0b\\xc80\\x80\\x8a\\xe5\\x93\\xff\\xc0\\x9c\\x8eW\\xd9\\xdd\\x95\\xc1\\x98+\\x8ck\\xc1\\x889}\\xc1C\\xa5\\x19\\x13\\x8c\\xd3\\xec\\xee\\xca`\\xcc\\x15\\xca\\xf5`\\xa8\\xfcATYa\\x1b\\xb3</Y\\xdc\\xb3\\xb2A\\xe9\\xf9]06\\x9f\\x12\\x0bk\\xb6>\\xb6W\\xe1f=\\x88y\\x83\\xb8(a\\x11\\xd9\\xd0\\xc1\\x04\\x9b2\\xb4+l\\xd6\\xee\\x81:\\x84\\xc0\\xb7\\xdc.\\xa0wi,\\x7fDVV\\x1a\\x96\\xb2\\xbfT\"\\xa4x\\x86A\\x8b\\x93\\x00\\xcay\\x03!\\xd9\\xacU\\xe8\\xc1\\xdc\\x9d\\x93\\x86\\xc4\\x1d-\\xd3\\x98\\xf3]r,U\\x1dVD\\xc43\\x10\\xf2u\\xc0\\x05e7\\xbf^\\x19\\x9d\\xe7\\xb1:R\\xb8\\xe05\\x08\\xa7\\xbc\\xf1\\xdf\\xe4\\xb9B\\x8a\\xa3L\\xe9\\xd1l\\x96\\xfa\\xa7y\\xca!Y\\x19\\x86y\\x9c.\\x83\\x01zW\\x1d\\x04S(^\\x1a\\x06\\xfe\\xfd\\xe1\\xf4f\\xeb4\\x8f\\xd3i@P\\x1f \\xdb~)\\x86\\xf2\\xf3\\x13\\x15\\xab\\xda\\xe8\\xe6\\x14\\x02\\xaf2TC\\xa5\\xcf\\xdc\\x05Q\\x83\\x85 D\\xbc\\x8e\\xacwV!k\\xd9\\x94\\xc1\\x1as\\xb2=\\xe2^\\xfe\\xa8\\x84\\xab\\x00\\x97\\xfb`\\xd6\\xcc04\\xb9\\xe6\\x83\\xb8;\\x82-v\\x9d\"Y\\xceBdZZ\\xd8\\x03\\xfc@)tlw\\x89\\x1b\\x820\\x8f0[\\x95\\xa3\\x0f\\x11\\x94R0\\x83%\\xc7\\x92\\xfd\\x8bC\\x84i\\xc3\\xc1q\\xa7\\xc4Y\\x82\\xc3\\x98\\x8a2,3\\xf3qcx\\x16\\xd1(m\\xb2T\\xfa9%?\\x95\\xb3\\xf1\\x1c\\xf5\\xd3\\x90\\xc6\\x1f\\xdd?\\xe5\\x98c\\xda;\\xfel\\xfb\\x9f\\xf9\\xa1\\xa1@\\xca\\xa7\\x08\\xde\\x93\\x8bx\\x1b\\xda\\x85\\xf0C\\x06-g\\xbfh\\x1f\\xbb\\xf9w\\xe6\\xe6~)i$s\\xcc\\x1b\\xd1\\xb92\\x07\\x04)\\x8a\\xe4VGn\\x0e\\xa7\\x90r\\xf6\\xa9\\x0c\\x0b\\x81\\x0f\\xa0Q\\x8c\\xd6\\xe0\\x18\\x88\\xca@\\x91\\x82\\xab.\\xcb\\x86$?\\x19\\xcc?\\xa4\\x0eHB\\xcbx\\xce`\\xec^[\\xf1\\x18\\xbet8>\\xaeD\\xf6\\xab\\x1c4n\\xc4\\xf8\\x8dm\\xe4h\\x8f\\x10o\\xeab\\xbfT\\x06<Pt\\x86y\\xbb\"\\xa4\\x0f\\x1b\\x11\\xd5q\\xb0y\\x18\\xab\\x8aAG\\x92\\xf5$\\xc4\\xeaq\\xbc9\\xed\\xf6\\xcb\\xae\\x10lM\\x117\\xdc-\\x8a\\xd6\\xa8\\x8c\\xcc\\x83\\xc6\\xfd\\xd9\\xb1)\\x83\\x9b_E\\x8c\\xd5\\x83a\\xf2\\xf4\\xf3\\xcc\\xc2d\\x0b\\xc1\\x11X*\\xa8\\x04\\x95\\xa6b\\x0eV~\\xcd\\x83\\x94\\xae\\x17\\n\\x19\\xc6>\\xda)5\\xa7\\xd3\\x0c\\xaa\\xd6\\xbe\\xc0b\\xb3\\xe6g\\xa2j+\\xb0\\xc7\\x98]\\xb9\\x02u\\x81\\xc33\\xa3\\xa8\\x9fV\\x03\\xbf\\xb8M\\xcc\\x19G\\x90\\xa1\\xccQw\\x9f~\\x17\\xa3\\xc7\\xc9\\xbbID\\xd3\\xbd\\xafS\\x107\\xf7\\xc4K\\xaf\\x87\\xc4\\x17\\xc7\\xf1\\x90\\xc0H\\xc6\\xbb\\x00\\x1bD\\xba)b\\xfe8\\xd9\\xe2/\\xf7\\xba\\xdd.\\x15\\xfa\\x14\\x03\\xaf\\xb7\\xee?\\xdc\\x937h\\xe8HD\\xef!\\xad}\\xe3\\x91h\\xe77Q\\xf2\\x08\\t\\xdd\\xb6x0N\\x9e\\n\\xdfx\\x9b\\xbe\\xe0\\xec\\xf0u|\\x07\\x82>X\\x13k\\x0f\\xf3\\xef\\x8c\\x06{\\x8f\\x84\\xfd}/\\x7f$\\xbfR\\xef\\x12\\x14\\xed\\x8d\\x8d\\r\\\\\\xca\\x18-\\xb5\\xaa\\x08\\xe9\\xa1\\xea\\t\\xdd\\r\\xd1\\xc6\\xff:bS<\\x16\\xbb\\xa2\\xbd):m\\xb1\\xb9%\\x1e\\xe3\\xea\\x89@\\x85&\\xd1\\xd9\\xdc\\x14\\x9b;;b\\xbb\\xbd!\\x9e\\xec\\xeedI\\xa5r\\xbaZ<u2\\xe9\\xabr\\xfd+\\xa6<D\\xa1 \\xa4eu_\\xaa\\xba\\x06\\xb1x\\xe1\\x0e`\\xc1\\xf5\\x91\\x85\\xdf\\xc6\\x04\"\\xff\\x9dr\\xd1\\x1cd\\xef\\x93\\xe7\\t\\x81\\xdc\\xd8,\\xa6\\xaa\\xa4TM(\\xab\\x9c\\x89\\x94\\x13\\xcc2\\xaaF\\xc2\\xc7\\xac+$\\xc4\\xc8\\xe2\\x96\\x82\\x01\\xe1\\xdd\\xd8\\xddG\\xf41\\x154\\x81\\xf9\\x0e>\\xa7\\x03\\xca\\xc09\\x10T\\xcd\\x85\\x8c\\xe2GB\\x15N2o\\xd1\\xab$\\x84p\\xaf\\xe7!%\\x8a\\xbeV\\x1f C\\x1e\\n3\\x92\\xdd\\xb34\\xb1\\x8aM\\xef$%\\xe7\\x8d=&w\\x1a\\xa2\\xe5\\xc7\\x03\\x80\\xc2;\\xe0\\xf75\\xc0V\\x06p\\xa3\\xfb\\x86\\x86\\xc9\\x91>\\x15\\xe3A\\xda\\xbe\\x1a\\xd1\\x03\\xbf\\x17\\x87O7%\\x9bF\\x81\\x80\\xea)\\xaf\\x8e\\xf2\\xfb\\xca\\x14B\\x1e\\x7f*\\n\\x05\\xd4@\\xe4_,7\\xd8\\r\\xe2\\x18D\\xa9\\x87,\\xc0\\x03\\xf1\\xeb\\xda3T\\x82\\xf0m\\xaa\\x8fA\\x11[.\\xfdx\\xedM\\xdc\\xb5O\\x12\\x9b\\xc7A\\xda\\xff\\x9c\\xbf\\xce\\xbf\\x9a)\\x15X@-\\x0c\\x92\\x05|\\x87&I\\xbe\\xa4>\\x93\\x04`|\\\\\\x87\\xfc\\x00\\xe0\\xf0-\\xfe\\xc7\\x00\\x9c\\x9c\\xbc>b\\x00\\x8e\\xdf\\x1c\\xad}\\xca\\xc8\\xb9D7\\x06O\\xe0q\\x12\\xb2\\x90\\x12\\x8c8\\xbe\\t\\n, \\x01_\\xafm\\x81!\\x10\\xde\\xacg\\xef\\xacKp\\x1f\\xd6\\xc2\\xb5\\x0e&\\xa1\\'\\xe7\\xe1#\\xb1\\xde\\xcef\\x88\\xae:z\\x9a\\x1ej0\\xf7\\x81k\\xc4\\xbdnC\\x8eP\\xe3C6w_@\\xa6\\x883T\\x0c\\x81\\x82\\xac\\t\\x92wq\\xc4\\xfa\\x85\\x8f(&a\\xc7 \\x88\\x08\\xbbx4\\xf3\\x1ci\\xc2E\\x91\\xa9\\xb2X\\xfc\\x10\\x8f(\\xc1%+zK\\x88\\xc0\\xcd\\x92\\xa8\\xe2d\\xaa\\x18\\x13\\x86X]E\\xa9x\\x84\\xed\\xaa\\x04\\xf3\\x08\\xba\\x92\\xdd8\\x10>\\xa8F\\xc1\\xc9Z\\\\s\\x92\\xc2H\\xfa<\\xd5 h/L\\x11\\xc5BE\\xcb\\xa8\\x8c\\x85\\xec\\xbe\\x97zT\\x88\\x1ax\\xa0y\\xca\\xb24\\n\\x06\\x1b\\x05\\xe4\\xd9\\x06\\x9aJ\"e\\x12/\\xd0%\\xdf\\xf9S\\x92\\xe2\\xa9G\\x81.\\x14\\\\\\x9a\\x8c\\x90\\xaa\\xe89\\x05\\xa4l\\x8b\\x96\\xe8\\xd4\\xc9\\x85\\xe6\\xe3\\xc2\\xbb\\x1d\\xf1\\xd7\\xbf\\x8a\\xcd\\x9a\\x97w\\x8b\\xcd\\xee\\xa0]D\\xba\\x14\\xe4\\x8dA7,\\x81<\\x07\\x89b\\x97\\x1eq\\x07\\x04\\x98Q\\xa1\\x11 \\x95\\x00\\xab\\xb4\\xe1\\x1bR\\xcc\\xa2R`=nn\\x17\\xfe\\xd1\\x12Ir\\x8c6\\xfa\\x9e\\xdb9z\\x00\\xdf\\xd0]/\\xe8\\xea\\x0e\\x85\\x1d6\\xac\\xc0\\xaa8\\xf6\\x88\\xb6\\xae\\xc0\\x1be\\xecQNb\\xd0\\xdb\\x1d\\xc2l\\xe2\\x97LD\\xb1\\\\<FsI,\\x10\\xf4$\\x9b\\xae\\xf15f\\x103\\x87\\xca=\\x89}M\\xf5L\\x90\\x97e{\\xc3\\x11Ew\\xd1v\\xc9\\x1e3%\\x8a\\xf7 \\xf1\\x87r\\'\\xcc\\x1f\\xbeW|\\xe2\\x91\\xba\\xb6J\\xd7\\x7fU\\xd7\\xdc\\x8d\\xfc\\xa4\\xa5o\\xd1F Q>\\xd51\\xa1j\\x0eO\\x85\\xac\\xb83B\\x1a\\x8fn\\x7f\\xfd\\xa1~[\\x910\\xac\\xa6>3j6\"!\\xaa\\r\\xb2TN\\x87\\xd9\\xa0\\xb1L~\\xce\\xd2&9\\xbd\\x87\\xba\\xee\\x86\\x1d[\\xb6\\x85\\xe2\\xc8<k\\xa8\\x1dg\\x8aR5w\\xa8\\xfd<\\xcayB%\\t7\\xa9\\xe6\\xca\\x1fO\\x9cbwY\\x00UCJi\\xb0Y\\xed(\\xd0\\x18\\xa4\\r\\xf2\\xb8Y\\x88B\\x1al=\\x12\\xdb\\x8fP\\xb4^\\xd2\\x00\\xb4$bhx\\xa6\\xf4LZ\\x00\\xf9\\x01\\xcd\\x80\\xfa\\x14\\xaaf\\xb3\\xd9\\x94Z\\xa6~_\\x7f\\xf9W\\xf5\\x92|E\\xb7J\\xba\\xe8\\x1aif\\xfa5/\\xde\\x83\\xc0TWu\\xb2\\xac\\xf4\\x81@9\\xe9;$+\\x8aO%L\\x7f\\t\\x1dK\\xa0\\xc6\\xcf\\x83\\x08\\xf98\\xc1\\xd3\\xbe8b4\\xcd\\xa9KI\\x1b\\x12`$\\x7f\\\\\\x91r\\x9c\\x98R\\xd1\\x88\\xf1\\xc0\\xd2\\x03I\\xaa\\x12\\x05,\\xa1J\\xa2\\x8dj\\x1f\\xdb\\x17\\xe2\\xc1\\xa4o\\xc7\\xa3\\xa7\\x8a>\\xbcA\\x89\\x860\\xd9\\xa5;\\xac\\xe2\\xcfR\\x16r\\xed\\x87\\xd9m\\xdd(\\x13{\\xacj\\xc6\\x93\\x96D\\xf2\\x16i\"\\x10@\\x8fH\\x19F=1\\x94\\xf3_V\\xb8\\x95\\x15PE\"\\x85AS\\xb5\\xf2?\\x93pS\"M\\xda/b\\x9d\\'\\xec\\x83\\x8fT\\xa6\\xbe\\x0b\\xeec\\xa8\\x99R\\x0bl b}\\x1c<\\x12\\xc7k\\x13\\xc5D\\xbfk\\xd4\\xa1\\xea\\xec\\xab\\xd5\\xf2\\xc1\\x90e\\xc7\\x94\\xc7\\x0e\\xb6\\x0cv<\\xe4\\r\\xa1\"\\x95\\xa2P\\x19\\xc8\\x90S\\xa7\\xd7\\xd7>\\x12N\\x81Us=.*U\\xf7\\xc3\\x7f\\xfbd\\xd2U\\x8a\\xb9\\xd9\\x97\\xffrO\\xe2p\\xc5 \\x07k?z\\x8f\\xc4?\\xa8\\xcd\\x7f5k\\x9b\\xa4wd\\x13\\xe0y<Q\\n)\\x01\\xc2m\\x14\\xc7\\x9fS\\xcf\\x01Y\\xd8\\x93\\xf0\\xa98B192\\x87_#/\\x1f&\\xb1V\\x1f\\x89\\x1ae\\xa1\\xb0~f\\xc4\\x11\\xfb\\x02;\\xa2\\xec\\xd1\"\\xa1\\t\\x12\\x1e!\\xb5\\t\\xd3Z\\xd1-\\xf6\\xdb\\xa6\\x02\\x15\\x1b\\x9c\\x8b\\xf1TJ\\xc1\\x9e\\x0e\\xb9\\x84\\xa1\\xadtp*\\xd6\\x9f\\xc9D\\x12a\\xa4A\\xear\\xb5\\x10\\x90`\\x8aH\\x1c\\x10\\x08fg\\x18\\xa9\\xb4\\xbf\\xbf,)5\\xba\\x1fG\\xf0\\x80\\xf3\\xdaQ\\x897\\xc4)\\xb0\\xbfQi\\xa1\\xb8+!Uv\\x9a\\xa0\\xbd@\\xaa\\xe3wK\\xf1RL\\xee\\xd2e\\xd5f\\r\\xbaE\\xf5\\xab\\xcclVS\\xac\\x96\\xbcR0\\xbd\\xd5\\x84\\x03O\\xb9zofog\\xb5\\x83\\x995b\\x87\\x86\\x11Y\\xb0Z\\xa0\\x16\\xa6\\xa8\\xf1\\x95s\\xef\\xe5\\x82\\xd0i\\x04d%\\xc5S\\x94,\\x9b\\xc0B\\'\\xf3\\xd7E\\xcd4v(\\x8d\\xa7\\xbc\\x1e\\xcaGAe\\xc0\\xe8yV\\x15\\x96\\x83\\x8a\\xbb\\x8c[\\x82\\xecfm\\rg\\xf3Q=A\\xa5\\xbc2\\xec\\xf1(OY\\xb1L\\x1a\\xd7\\x00t#\\xb3\\x9a\\ry/\\xc8\\xe7F_\\xb0\\xfbTA\\xa6\\xae\\x8dr\\x7f\\xa6\\xf3\\x83]\\x95\\x9c\\xc4\\xf5\\\\~\\x87\\xbf\\xe3t\\xe2\\xcf8\\'\\x97\\xafb\\x83\\x12\\xbe\\\\\\xbaO\\xfb\\xe4(oM\\x01\\x81\\x1c/\\x95K\\x86\\x9be\\x1f\\xa5\\x06k\\x06c\\xe8A\\x8d\\xbbv\\xc9wM\\xe0Q\\x82\\x90\\xb6\\xa1\\xe5Y*TV\\xae|\\xc3\\xb2\\xe24\\xbatqf\\x80\\xaa\\x1a\\xd1CU(R\\nq\\x82\\rW\\xdb\\xde\\x13\\xf7\\x07\\x83\\xfe`g\\xfb)d\\x9c\\xbc\\xde\\xde\\xder7\\xb6\\x9e\\x8a\\x1e\\n[c\\x1fB\\xdf\\xde\\xd8\\xd8\\xea\\xef\\xd8O\\x05\\x95\\x02\\xb1\\xec1\\xf8\\xee\\x9e@:\\x01\\x94j\\xbc:\\xdb\\xaa~=\\xefe@\\xaak\\x1f\\t\\xc1\\xc3=\\xd1\\xde\\x08\\xaf\\x9f\\xc2\\xaa\\x8c\\x10B\\xb0\\'\\x9a\\x8f\\xdd\\t\\x1e\\x06\\x88\\x9e\\xc4d\\xefQ\\xe6\\x0b\\x86t\\xe9>\\x05\\x95\\xe3\\x90\\x92=\\xf1\\xe4\\xf1\\x7fTv\\xb2\"\\xe8jD(\\x0c\\xe4\\xa51\\x80@\\xafL\\x88\\x05IP\\x9e\\xc2\\xcf\\x9f\\xb9V\\xbf\\xf4\\x18#CY\\xa1\\x82LG\\xa6c~\\x12JJ\\xae.cA\\xc9\\xc9\\xd4\\xbe*\\x08\\xb3\\xb0\\xa7\\xcc\\xe7\\xfb\\x13\\xa2\\xdb\\xa1*\\xb1\\xe6\\x8c\\xbd\\x84\\x18\\xf5~\\x878\\xfd\\xe1\\xe4\\x90\\x94\\xa5\\x88\\xf6\\x16\\x80\\xe8S8\\n\\x1f\\tD*>nb_\\xc8\\xeeI.\\tk\\xf3\\x82\\xaa\\xdd\\x04}\\xbc\\xd0\\xe3b\\x9c(xHe\\xdf\\xc6\\x02\\xd2\\xfb;!Y\\xa5\\xfc\\xef\\x8c\\xc7[Ub\\xb7\\xb0\\x91q!\\xf4\\x05\\x97\\xa1\\xc8\\xae \\xe0\\xb1p9Jex\\xb3\\xb1\\x8d\\xffU\\xe0\\xcdv\\xdf\\x86\\xd9R\\x89#\\xfcH\\xf3\\x19\\x1d\\x8c\\x97R15\\xcc9gU\\xd3\\xf0TR\\x1c\\xdf\\xc4n\\x14\\xaa\\x99PM\\xdb\\x83\\xc6g\\x1c~Cu&\\xf8X$\\x1fZ\\xbb\\xcb\\x15\\xab\\xde\\x1f\\xbd:>=;z/^\\xbe{/N\\xfe\\xeb\\xf9\\xbb\\xb7\\xd8\\xbd\\xfdN\\xbb\\xc4\\xf5bT\\xf3,\\x90\\xa7I`T\\x1d\\xa2f{\\xc5|\\x8d\\'\\x88N\\xd4\\x01X\\x82\\xc2\\xdbT\\xd6\\xa0\\xbaU\\xb1\\x07\\xa1\\x19\\xc4\\xfe\\xa8\\xa31J~\\xae\\x8e\\x1aZ.\\x1b\\xdb\\xe8*K\\xf1Evb\\x9e\\x998\\xeaH\\xc7.\\tQ\\xf2\\x17At\\xac\\x01\\x1f\\x10\\x1b@\\x92\\xd8\\x943\\xb0U \\xc4\\xf3j\\x99p\\x1c\\xc1\\x19\\xcb\\xa9\\x0b8$(Y\\x83\\x05j\\xcao6Uaf\\xe6\\x9aM({*g\\xb6\\x02\\xc4B\\x1ae\\x97\\xb3&s\\xf1\\x9dejH\\x0b\\xa2\\x90\\xaaaT6-\\xf0\\xf9\\x1a\\xa9K\\xef\\xd4\\xae\\x8aN\\xd1\\xfa\\xbd\\x97D\\xf7\\x93\\xad\\xc7\\x0b\\x95\\x80\\x08\\xad\\xac\\x83\\x13\\xd92I\\xaf\\xaa\\xfd\\x93\\x02\\xcd\\x93\\x89\\xea\\xb9\\tWG\\x91^\\x08\\x94\\x9a\\xf5P\\xc7\\x06^$2#u\\xab|A\\xc4\\xc8\\xb1\\xe6\\xf0X\\x00\\xad1Kh\\xf55\\xa4{\\x9c\\xec\\x19.\\xf2<\\x05Ne\\x12\\xea\\xe2\\x0b\\x9b\\xed\\xcdM\\xc8s\\xa5ql6\\xdb\\x9b\\xcd\\xcc\\xc1])\\x844\\xa9\\x98\\x8b\\x90!\\xb0\\xb9\\xd3`\\x92\\x01\\x94\\x86\\xfc\\xd4\\x82\\xdf\\x7f\\xd6\\xcd,0\\x9d\\xed.\\xd3L4\\r\\xe0\\xca8F\\x81&R\\xce\\x00P\\x9b\\xfd\\xa0p\\xdf\\xc0\\xe0G\\x95\\xcc\\x88T\\xdd1\\xea\\x00\\xab\\x8a\\xbdj_\\x01\\xeb\\x82e\\xe2d\\x1f\\x18\\x85\\xe4)\\xca\\xd7(\\xf0I\\x06\\xb0\\xd2\\xc9\\x1b)35\\xe0J\\xee\\x96F\\xb7tcF\\xa5\\xba5\\xc2s!G\\xc5\\x92\\xb8xQ\\xf5\\x9e\\'\\x13\\xcd\\xad\\x98\\x10u\\x94a\\xbb,\\xff\\xa8\\xa7\\xfc5\\x92\\\\x\\xa3\\x08\\x93\\xcd\\x1a+\\xfery\\x1a[\\x1b\\x18,\\xea\\xe1\\xac\\xd2\\xc2_\\xfa\\xa8\\x15\\x9bJ\\xa2)}\\rN5B\\x9dqj\\xe5\\x07\\xf1\\x0e*\\xbf.\\x94D\\x1f\\xd3\\xde(\\xbe\\'\\xdb\\x90\\x0f\\xc3\\xb0\\xa2\\xd4\\x17\\x00\\t\\xea\\x0b\\x16\\x14\\xcc^Up\\x86bM\\xee\\x07.UF-\\xa2d\\xe0\\xecj\\xb5\\xb8\\xbe\\xa5Y\\xca\\xb3[\\xbaq\\xa3u\\xaa\\xa3\\x1f\\x93Y\\x91\\xabI-W\\x0c\\xc5r)\\xb1CGV\\xa5\\x13\\xbd\\xc8\\x14K\\xb5\\x98\\xce*\\t|\\x86s\\x8e\\xa2\\xb4\\x07G\\x17\\x1d-RE\\xf4t\\xaf\\xf6\\xc1\\xed1\\x8aB\\xd72\\x8c\\x92\\x8cM\\x05_\\x11\\x0b\\xad\\x03\\x88\\xfb\\r\\xb54\\x1dR\\x98\\xc1\\x84\\x8e\\xe1\\xe3*1f5i\\n\\xe7\\xa0\\xc9\\xaa*\\xd9\\xca\\xdb\\x82\\x14g%}6s\\x97[\\x032\\x1f\\xa2RA\\xdf\\xf9\\xf0/\\x9c\\xd8\\xa5^\\xe0\\x9d\\xf8\\xfd\\x04;z\\xb4\\xfb\\x03\\x9b\\x99\\x8e]$E\\xca\\xda\\xc0\\xffw\\xce\\xda;{\\x9b[{8\\xc4\\x04\\x1b\\xd4\\x1b\\x1b\\x9d\\xef76p\\x81I2\\xc3\\x0f\\x90-\\x86\\n\\xd5j\\xfa\\xf8[\\xa58q\\x13t\\xdc\\xce\\xc4\\xc5Xf&6\\xe4\\x8d`\\x083:2\\xa2\\x18]\\xc7\\xaa\\xdc\\xc6\\xe3\\\\\\x0cmmX\\xa8\\xc8m[m\\xcb\\x8bQ!\\x14e\\x088a\\xd9\\x90L8i\\x8f\\x8av\\xdb\\xd8+\\x07\\x01\\xd3+\\xac\\xc7U\\xef\\xb7\\x96\\x11c\\xee\\xba0\\xb6\\xcc\\x9d\\xa7\\xed\\xb3\\xf6\\xe6\\xdeV\\'\\x9b\\xa7\\xf6\\xea\\xf3\\xb4=o\\x9e*\" \\xf5\\x0c!\\xfa\\x06&\\x9ac8\\xdd+\\n&\\xa9\\xc9BV\\x92zW\\xf3\\xd4\\xaa\\xf0\\xce\\x97\\xe4\\x8e\\xbbB\\xc1+\\xe9\\xbf&\\x86\\xfc3\\xe2\\x0f\\xb0\"\\xdf\\x89\\xff\\xf7\\xbf\\xff\\xd7\\xff\\xfcj\\xb3\\xda>k\\xef\\xee\\xe1\\xff\\x1a\\xfb6W\\x9f\\xd5\\xf6Mg\\x15%Ea/X\\x90.\\x16\\xc2\\x8f@\\xe9C\\xe4\\xa4\\xb2\\xf7\\xd9\\x82\\xecP\\xe9{zZI\\x12\\xa14:9[ .Hv\\xbc\\xe3\\x0fH\\xb9\\x86#\\x05\\xbeO\\xf5\\x01\\x8e\\x94A\\xd0\\x82\\xaa\\x9d\\xf0\\xda\\xee}\\xcd\\xa9\\x04\\x15\\xff\\x1b\\xa6r\\x8bB,\\xc8\\x9f\\x14[p\\x19\\xb8r\\x037#\\xdb*\\xf4\\xa3\\xa3#b\\xe2\\xab\\x889\\x81Sv\\x8a}\\x02\\x1c\\x8e\\xc4\\xfbr/ \\xda\\x1d\\xec#}\\x9di\\xdb\\xb2:[g\\xed\\'{\\x9d\\xf6\\x8d1\\x90\\x9a\\xb8\\x11\\x06n\\xb11k!8\\xdbb\\xe5\\xc4\\xe2\\x02\\xed\\xd0\\xe2q\\xf8*t\\x98\\x14\\x87\\xc6\\xca*~\\n\\x05\\xe9m\\xc1\\xb1\\xd0\\xf4\\xb6\\xc0Y\\x1c\\xd2\\x19u\\xaa\\xde\\x16\\xa8\\xbd\\xc5{\\x19w\\xc2\\x10\\xe7\\xd7\\xb3*\\xfb\\xf2P\\xe2Qj\\x08\\xec\\\\\\xab\\xe4\\xb4uZ\\x0fs^\\xc3j(j1\\x1c\\x86\\xba\\xa4\\xdeZ\\xd9m\\xb9\\xf9\\x0c\\xd2\\x7f\\x8f.C\\xc7\\xea\\x92m\\x91\\xe93\\x1fB\\xe8\\xaa\\xa4\\xd6\\xea \\xde[\\xeb4:dVwe\\xe4T\\xb0:#;\\xfa3+4\\xb5\\x0b\\xadE\\xfe\\\\I\\xde\\xd98ko\\xefm\\x92\\x92\\xb3\\xb2\\xb0\\xe9l\\xcc\\x92z}\\x882\\x0e\\x86C\\xd6p\\xf7\\xc59\\xe82\\x80\\xf39\\x18\\xfawE\\x9eK)~\\xb7\\x9c\\xa7\\x0e\\xc9fV\\x06W\\x9f\\xa7\\xce*\\xf3\\xd4~\\xb2\\xbb\\x9b{ ^\\xbb\\xd0\\x15\\x91a\\x91\\xc7\\xb7\\xdf\\x11K\\xfb\\x1as\\x06m\\xfa\\xc6\\xb8U\\xa1F\\xcf\\xc3\\xad\\xb6\\xf4\\xda\\xbc\\x86\\xfb\\x1a\\xc2\\xf4pB\\x87\\xcf\\xf4\\xed\\xc9\\x1e\"\\xc7B:iH\\xc8\\xe3\\xbf\\x10+KIT\\xcf\\x89\\xf4\\xb1\\x11\\xe2\\xb8!\\xf6\\x8c\\xa0\\xc2\\x1c\\x1e\\x8bCTQ-\\xa7Oj\\x12\\xaa\\xfa\\xbb\\x10\\x9fn\\xff\\xc2|\\xca\\xdd=ct\\xbc\\x11F\":\\xaal\\xa4T\\'9\\xb4ww\\xe4\\xccb\\xb6\\xc41\\x9cp\\xa8\\tK\\xb2\\xf7\\xcf\\x82\\x85\\xdb\\xd6F\\xfb\\xa6\\xf3D\\xdf.\\x9c\\'#\\t\\x03\\xf3B\\x94+9\\x9cx\\xe5E\\x08b@\\x15]X\\x17\\xff\\xf7\\xff\\xacP\\x7f\\xf5vx\\xb3\\x8c\\xaa\\xb2\\x9aNR\\xa7\\xab\\xdc`/\\xa0\\xa8\\xce\\x94\\xb27\\x97\\xf0\\xcfT\\x1ce\\x92I9\\xd3\\xd7\\xba\\x84\\x8b\\x86\\xf9\\xdf\\xdc\\xa9\\xbe\\x9d\\xe7\\xaf4\\xb8L\\xc59-\\xe7\\x9c\\xdf^\\xc5)g\\xc1f\\x195\\xac\\xe1\\x94:,\\xa9:sg`\\xee\\xc3\\xc2n\\x82\\x91\\xcf\\x8fC\\x10\\xa9\\xee\\xb9\\xcc\\x0b)\\xdc\\x7f\\xb2\\tG\\xca\\x829\\x87\\xef\\xc9\\xb9\\xe0R\\x96\\x8b\\x9dA\\xf9vJy\\x06\\xa4\\xa3\\x05\\x05\\x94#\\x1c\\x0b\\x81pn\\xaa\\xcf\\x81\\xaa\\xc2\\xc8\\xc8\\xf2]\\x8bc,\\xc8}`\\'d\\xda\\xc2\\xc4@\\xc1\\x05\\xec\\x0f\\xc8\\x1ca\\xed`\\xe1m\\x07\\x08\\x07\\x1c\\x99\\x86\\xf3\\x84q\\xfe\\x9f\\xe7\\xc24C\\xb8\\x93t\\x83\\x93\\x94!77\\x07\\x81\\\\\\xd1\\xfea\\x8cXJ8[!L\\xd4\\xe6\\x10N\\x9cB1\\x85\\t*SS\\x8c0\\xf7-\\xe3;\\xa4\\xdf\\x96B\\x9c\\x10\\x86\\x85\\xec\\x95\\x04;\\xc4\\xd8\\xcb 3\\x9a\"\\x93\\x91\\xeaC\\x15\\xcb\\xb1\\xdd\\xc1E\\xcb\\xf9\\x14s\\xd1C=s=\\x12\\xa4\\x82\\xc2{%S=\\xe0\\xa8\\xad8\\xc2\\xc5\\x94W\\xfb\\xe4\\xcf\\xcb\\xe6t\\xfe\\x92\\xe2\\xf8\\x07\\x00\\xe2`8j7\\xfa\\xa0\\x81\\x02\\x1dt\\r\\xf7\\x17\\xb9\\\\\\xf8Zn\\x15\\xf3O\\xde\\x83\\xc6)\\n\\x1b\\x1b\\xff\\x91\\x05\"\\xf0\\xeaY\\x94\\xac<\\xc7\\xaa\\xc8\\xc8\\x16Gg\\xf4\\xa7\\x8b\\xd7\\x9a\\xde\\xdfO\\x10\\x08Q%\\x8a\\xab\\xee-\\xfd\\xe2~\\xd2G\\xb6M\\xee\\x05m\\xfd\\x0e\\xc8D.\\xa5\\x97\\xd9\\xf2\\xbdQ\\xc8\\xc0A#\\x84\\x0c\\x08^\\x81\\xcb\\x84\\x04l\\x86\\x88\\xb4\\xac|  \\x16\\xfeE\\xd4\\x849\\x1b\\xc1\\t\\xeea\\x1b\\xf2\\r0\\x93\\x90\\x8e\\x10\\xf4\\xadw\\x11`\\xffB\\xbcr#\\xc4\\xa3\\x8f\\xf8\\xd4@\\x19;\\x8aA-5\\x03\\x90oKL*\\xdeZ\\xbcLx\\x89\\xd0g~\\xbfJ\\x98T\\xad\\x98\\xbeW\\xcf!\\xbe\\x9a\\xa1m\\x1cu\\xbb\\xf4>\\xd1\\r\\xe4\\xcf\\xed$\\x8cdr\\xb9\\xed\\x9cm8\\xd3f\\xd0\\x03\\xca\\x82\\xf3B\\x1c&\\xa4\\xf6\\x9b\\x16\\xf8\\xfeU\\x18\\x01\\x15-.\\x8a\\x0f\\xb3lqQv\\xfc\\xe5\\x1e\\xb6\\xf3\\xca\\x1e\\xfc\\xbf0\\xd6\\x91\\xe2\\xba\\xdf\\xc3i\\xf4=\\xf8\\xb4\\xb2\\x02\\x0c\\xe0D]\\x84\\xf8\\xeau.\\xb8\\xd4\\x13\\x1b\\xfb3\\xfa\\xa0\\xd2<\\xf2\\x02\\xb7\\xcd\\x08\\x08ypk\\xb3\\xcf6$v\\xe8\\xe9\\xc4xu\\xe2\\xa5\\xd4\\xba\\x88l\\x10I\\x9e\\x1f\\xb9Q\\xf9}8\\xc5\\x0ef\\xac\\xbf\\xe7\\xacr\\xb0\\xfd\\xc8\\x9ex\\xd8\\x14[\\xd4@/H\\x92\\xb1\\x8b\\x936\\xe9<\\xe3\\xee3\\xbeZ\\xfc\\x15\\x9cx\\xbe\\x8d]g\\x9c\\xae\\xc9\\xdf\\x9d\\xc9\\xeb\\xec\\xc3\\xbcz;\\xc68\\x00M_4\\xc3\\xc0\\t\\x02u|\\x9d\\n\\xac\\xa1\\xe9\\xe8\\xbe\\xa4\\xa7\\x8b{\\xa4c\\x93\\xd1]\\';\\x13T^H\\xc5]\\x85Zb\\x99\\n\\x0b\\xf6\\xea\\xc3\\xf1\\xdd/XU\\x11\\xc4\\xb3\\x0bN9ht\\x13\\xf9c\\xc1p\\xb2$\\xe3\\xa1\\x8f8d\\x9e\\x93\\x13\\xb9\\xfa1\\xce\\xf8~\\xf5\\xaeG\\x88@k\\xa8~.hN\\xa1QD^jd\\xf3^\\x90\\xd4\\x85\\xc3\\x15\\xa9\\x00N\\xd0L/ZzC\\x01\\xbb1_\\x92\\x16\\xc7&R\\xe3?s\\x89\\x909\\xe8\\x95\\x81\\xf9%i\\xa2\\xee\\xe7\\xc9\\xf4\\x94*o\\xe2K\\xfa\\xbb\\xc4\\xb7\\x17\\xde%\\xa3\\x15\\xd0\\xf1\\xef\\xf8\\xb9\\xe0\\x0b5\\x8a\\xabk\\xc9\\x08\\xd4\\x87W\\xd7r\\xe7~\\xc1\\xc7\\\\\\x1b\\x17\\xf2\\'\\x9cb\\xd3\\xbeIQ\\x8dP?x\\xdf\\x1d\\x80\\xbb>\\x0e\\xcd\\xa2\\x90\\t\\xb2f\\xf0\\x12\\xe65U\\xb5\\xbdj\\x10\\'/\\xf0\"\\xe5\\x12%\\x9eQf\\xcf\\x92\\x04\\x0fF\\xb2\\x80dQWF\\x93\\x1c\\xfa:Ybn\\x10L\\x8c\\xa0x\\xeccR\\x92\\x97\\x9a\\x9c\\x13\\xbe\\x97MM\\x81\\xe8\\xd0>\\xed\\xce1yjf\\xc9\\xf4v\\x9cOh\\x16\\xa3\\\\&\\x9c\\xeaz2K\\x8e~\\xde\\xd8)\\x8b\\xac\\x0f\\x96\\xd3D\\xad\\x0b\\xac\\xc63u\\xb9`u\\xb1\\xb8trw\\xd3E\\xd0\\xd5\\x154I5\\xfc3\\xdc[\\xfc%G@\\xa6aS\\x06\\xe1@\\x96\\x0c]\\xd5\\xfb{\\xf9\\x84\\x9a\\xa8\\x9f\\t\\x0e\\xa2\\x15\\x87}\\xf8q\\xa1\\xb1`#\\x04\\x8a\\xcd\\xd2\\x880o*\\x88\\xa1\\xe1,@\\xca\\xba%\\x9e\\x8f\\xea\\xba\\xf2b\\xc1\\x88\\x08\\xd3c\\xd4_\\xd6\\xec\\xde\\x03-\\x9f\\xe2z\\x89\\xcf\\xa8G\\n\\x9c\\xc36\\x98s!\\xf96\\xedga\\x93\\xcbY\\xc4\\x80\\xa9\\xd7k`S<jt\\xf17\\x86nV\\x9e\\xb4e,u\\x0e\\xdb\\xa5\\x83\\'\\xd0\\x90\\xb9\\xa9P\\xa5?\\xd5\\xda\\xe9sB\\xc2\\xccvL\\x83\\x8e\\xf6ad|L\\x9d\\xc5Vx\\x9b)\\x07\\xfb]8\\x89\\xb2.o\\x89z\\xaa\\xd4Hk\\x95 %\\x99\\xcc\\x8dw\\xac!\\xd5\\x1c\\xe0R\\x01\\xfa_\\x85\\x89Fp\\x17\\x1fv\\xab\\xed\\xb8\\x8a\\x1d7Z\\n\\xca/\\xd0\\x918\\x94\\x0e4\\xf1d\\xf6\\x1a\\x0c<\\xb2\\xc3$\\xc9c\\xe3r\\x90 u\\r\\xb9<\\x84\\xf9\\xf2\\x94i\\n\\x96\\xe1\\xf0\\xc0\\t\\xcc\\x1cN5J |d\\x02\\x80\\xdd\\xbf\\x84\\xb1)M9\\xd5\\x84\\x19G\\xa8\\xe3\\xd5\\xe5\\xcbh%F\\xe20\\ne2\\xcf\\x1c\\xc0\\xc0\\x1a{\\xbc\\x7fJ\\x10\\xd0\\xe1[\\x94K:\\xe0\\x03\\xbci;U\\x87\\xc2An\\xe2\\x94KP\\x15\\xe7\\n\\xa9\\xd0\\x1ez\\xb1\\xd4#>\\x99\\x1b\\xb9.\\xa7IF\\xaeS$\\x08M\\x0b\\x1f\\x99NQZYT9\\xec\\x8a\\x0b:n2\\x86 S+\\x92\\xb1j}\\xa0\\xa0*\\xe4@\\r\\xca\\xc3<\\xe3\\x91\\x87\\xf2,\\xddg.\\xe0\\xa3\\x80&\\xb9\\xb5.\\xe7\\x9d\\xf5\\xc3yM\\xf0\\x99\\x9e\\x14\\xbfG\\xd2\\x87\\x0f\\xf4\\xd4\\x9b\\xcc\\xea\\\\b\\xce\\r\\x99534\\xfeW8\\x89\\x80#r\\x7f\\xb0\\xc2\\xfd0\\x83\\x94\\xb3\\xf6G\\xc5+\\x85[e\\xbb\\x84\\xa2\\xe0\\x11\\xf8\\x8e\\x98R\\xda\\x00\\xcc\\xf4]\\xa6\\xc3\\x8c\\xa2\\xf5)\\xe1\\x82c\\xffycO\\xea\\xbf\\xc5]C~\\xffe\\x00$\\xa3 \\xd4>\\x12\\xb1\\xb8\\xd8(y\\xd2d\\x0e^\\xa1\\x8f\\xbc\\xb3\\x81\\xfc\\xc4<\\xa44\\x13k|\\xc4\\x8c|A\\x07\\xea+\\x18\\xe8\\x80\\x8b\\x92\\xd5^\\xd8\\x8e\\xcc?\\xe4\\xd3\\xa6\\x10\\t437\\xe6\\xfb\\xd9D\\xd4q\\x91\\x99\\xaf\\x15v\\x10\\xd8\\x14\\x14M\\xb1\\x08t,<*v*\\x15x\\xf6pb)\\xb7\\xb3#\\xcf\\x97\\x8b\\x0e\\x96\\'\\x94/:\\x7f\\xf8\\x19@ \\xe4;\\x0b\\xf8\\x84\\x91Y\\xcc`\\xaeV8\"\\x83\\x9c_v\\x88\\\\\\xaa\\xecXz\\xaa\\xbdR<\\x1b\\xd78\\xbeI\\xfa\\xc9\\xccy\\xca\\x18e\\xb9&|\\xdb8e\\xd0\\xc0\\xaa\\xac\\xec\\x83>-\\xe7\\xc6\\x87\\xe3\\xc8Fs\\x14Z\\xf1\\x94\\xc3o\\xa7\\xdf|;\\xfd\\xc6\\xa8\\xfa\\xb5Da\\xd8z\\x0c\\xef\\x18\\x8c%w\\xf3\\xe6Q\\xdb|R\\xfc\\x95\\x8f\\xd4|Y\\x857C\\xda\\x02C\\xa9=\\x06\\xean0\\xdd\\x04\\'?\\xf2\\xe1\\xdb\\xe94J\\xe0\\x95W7?=k^\\x01\\xc2\\xec\\xcc\\x94\\xb8\\xf5\\xedt\\x9a\\x0c\\xab\\xfe\\xfc\\xa7\\xd3\\x94\\xb1!\\x97f\\xe6I\\xd3&\\xadS\\x05\\xd9[\\x1f,sW\\x94\\xfe\\xed\\xe4\\x98\\x06\\xe9\\xf3\\xf2H\\x99\\xdb\\x9d\\xd72\\x8f\\xfau\\x9a\\xdb\\xb7\\x93c*N\\xf4\\xf9vr\\x0c\\x9dk$\\xad\\xdc?\\xf9\\xc91\\xf5\\xdc\\x10g\\xd0\\xe7\\x1ax\\xa6\\xdbgv>\\xf1\\xc4\\xe7fq\\xdb\\x7f\\x8b\\xe6\\x93\\x83#]\\x13\\xdfNv\\xc9\\xac66`k-\\xa7y\\xbc\\xcf8\\xe3\\x03N\\xd7o\\'\\xbbx\\xd8X;\\x80\\xd4Qn-\\x04\\xa0};\\xd9E\\x15g]\\xc2F\\xffv\\xb2\\x8b\\xcbqHF`G\\xce\\xb5\\xbe\\x9d\\xec\"I\\xeb\\xf4\\x96\\'\\xbb\\x94\\x19]\\xae\\xd4?\\xae\\x14c\\xe5\\xd0\\x9a,\\xd4`&Zn&Ln\\xe5\\xf3\\x0c\\xeeF\\xf3/C\\xfc\\xed\\xec\\x15>y\\xe6\\xdb\\xd9+8\")\\xc3\\x85og\\xaf\\x98\\xb3\\x91\\xa5c\\xfe\\xaeg\\xaf\\xd4\\xb3\\x9e\\xedJ\\xd6S:y$?.\\xa2\\xee@\\x15>Q\\x82\\xbd\\xfe\\xca\\x9fU\\xdc\\xbe\\xfc\\x9d}\\x8b%p\\x95\\x0e\\xf4\\xed\\xa0\\x94\\xc8\\x1d\\x1c4\\xbe\\x1d\\x94R\\xca\\xdaG\\xb0\\x01\\x8a7|\\xe5\\x83R\\xea)p\\xa7\\x92\\x029{\\x91\\xf2\\xef\\xba:\\xbb\\xef\\xdfD[\\n\\x10\\xb5o\\x98\\x81\\x959[\\x15\\xb1\\xe5P~;\\xcb\\xe4\\xdbY&\\x08p\\x91\\x08\\xf1\\xb5\\xce2\\xa9\\'\\xaf\\xddJ\\xf2\\x82\\xb4\\x95\\xce!\\x84+z\\x88\\xcc@8\\xe3\\xbfKz}]/\\xee\\xbc\\x03\\x0c5$C\\x94dM{\\x1c*,\\xc9\\xbe\\xe5\\xa8\\xbf\\x88\\xfbI]\\xf3\\x90\\xcfc\\xba!(T\\xee\\xc2-%\\xde/av\\xcf;FH\\x03\\x83\\xf0\\x8b\\xb1y$:]\\xa3\\x88<N A\\x84?\\x020t\\x11\\x10\\xac\\xa8q8\\x8ebW\\xb8\\xa9J/\\x9b\\x99\\xedK@6\\xd7\\xf5D\\xc8C\\x87[\\xa0*\\x0cN\\x9f\\x89d\\xfc\\x8ey\\xf0)b\\xa0\\xded\\x8fd,\\x9b>)f\\x89\\xbe\\xe7\\x1d\"\\x840\\xd4K\\n\\xcfIQ\\x10\\xbep>\\xb4<D\\x18\\xd1C\\xa7\\xea\\xa1\\xe0\\xa5)u\\xbe`\\x9bY=.l\\x0bk}\\x0e\\x9bM\\xe58\\x13\\xe0\\xd2\\x1f!\\xceDCh\\xfe\\x9d\\r>Y.\\xec\\x88\\x1d\\x92\\x1cz$\\xcf+\\xe2hB#\\x02H\\x06\\xf2\\xcc\\x96*(\\xe4w\\xc1\\x95\\x82s\\x8f(\\x06lf&\\xeb\\xe2}*\\xc7Pu\\xd3\\xc8!\\x901I\\n\\xa2\\xa5Chfa\\xcaV\\xb8\\xe4\\x88-\\x84\\xd0\\xe4{\\x8d2r\\x06\\x19\\x13\\x14\\xb4\\x86\\x8a\\xcb\\xa1\\xaa\\x1c\\\\_\\xf4\\xe7\\x15US\\xb4\\xf51C\\\\S\\x15\\xc7\\x0f\\x15Q\\xb3r\\xac\\xb5\\x00!\\xe2!\\x07\\xa8\\xd2\\xbf\\xde}\\x91UU\\xa9\\x07\\xec\\x18u\\xbe<.\\x10\\n\\xdbE\\x05k/*\\x81Q/i\\xb05\\x9b\\x01U\\xcfJ%g\\xea\\x07`\\x1c\\xc3\\x96\\xe2\\xa78[\\x97N\\xfa\\x12H\\x01A\\xe5RW<KY\\x1a\\xcd/NT\\x0f\\x88\\xb9+R9\\xaf\\xe5\\x1aVT\\xb9\\x86ke\\xea\\x98n\\xac,\\x15\\xa7A\\xdd\\xd0\\xc2\\xe4)\\xae*_G\"`\\x9f*\\xc6\"m\\x10\\xc7\\xe2\\xd8\\xe9X\\x1doU\\xf3R\\x96zS\\x90\\xb3e\\xf0\\xea\\x87\\\\q\\xc2T\\x86\\xb8F6\\x91\\x13\\x84\\xd3\\x88\\xceQ\\xa8 \\xbe\\xec}$\\xb0q\\xa1\\xcdzZ\\xa0W\\x8bC\\xa7\\xe2_\\xcfu\\xe3\\xe2\\x01\\xf5\\xf3\\x94\\xaa4X\\x94\\xe0\\xad\\xebq\\xcf\\xd0\\xbb9>U(\\xb5\\x18\\xa2k\\x96\\x14\\xa3\\xd3\\xe3-X&T\\xd9vaL\\xae\\xae>Z\\x9e\\xc1\\xd5z\\x94\\xc4<v\\x878\\xed\\x88\\n3\\xe3\\xaf,K\\xc4\\xa7+I$d\\xc2\\xb8\\xdd\\xc849\\x84\\x01\"d\\x91\\rj\\xa2\\x9a\\x81u\\'H2\\xb1\\x9d\\xa9\\xf5\\x16\\xd5\\x88\\x1d\\x97\\xa6@\\xde\\x10\\xf2\\xc6\\xb2\\xe0P\\x14\\xe8R\\x93\\x9do\"\\x01\\x99\\x07\\x11j\\x1b\\xaa\\x12\\xe3\\xe8\\x19\\xd9Gt\\x8e72\\n\\xa9pN\\xb6\\x8b\\x88\\xacC\\xf3E\\x03$3z\\xb5\\xbc(X,\\xc6\\xb7\\xcaP\\\\\\xc6\\xb5\\x9a\\xb0\\xf3U\\xa5\\x96\\x11\\x02\\xaf\\xa5P)B\\xb6%\\xc5\\x86\\xe1\\xa8\\xe1\\xa5-ut?\\tRg\\x04\\xa12\\x1bg+_\\x8f\\x9d\\xc8\\x0b\\x13\\x11G\\xceA\\xa3\\xd5\\xb2\\xcf\\xed\\xeb\\xe60\\x08\\x86H\\x17\\x0e\\xbd\\x98UG\\xba\\x07-\\xad\\x17\\xb7\\xce\\xbf\\xa4\\xc8\\xc1l\\xb5\\x9b\\xbb\\xcd\\x8e\\xbah\"\\xe1\\xa1y.k\\xf3qK\\x12\\x9e}\\xd9l\\xf7\\n\\xbc%\\xb8j\\x9e\\xffL\\x1f\\x8a\\x7f\\xfe\\x13\\x11\\xa1\\xb2\\xe4f\\xf3\\n\\x8a\\x8f\\xbb\\xbe\\xa6^T\\xfd\\x13C\\xc2\\x19\\xca\\xe7\\xb1\\xd9\\x9f\\xc5\\xfd\\xe5\\x1d\\xfdwK5\\xbeF\\xc7\\x0c\\xccv\\xba\\xcaXR\\x0f\\xa3iw\\x9am5\\x1c\\x0biA_aD\\xa9\\x87AQ\\xb7\\x0bFU\\xb1D\\xa5)\\x9a\\xd8q\\xe0G\\xd3fx1\\xec\\xcf\\x87\\xbcz\\x8a\\xa9\\xbc\\x1eh\\xc6\\x19\\xa7\\xa8aZZ\\xc8B\\xeft^\\xd4A\\x83J}\\xb7\\xceQ\\xe5T\\xce;\\x8a\\x883\\xde\\xe4@\\xb1\\x8aE3\\xe8\\x0ev;\\xce\\xc6\\xf6\\xd6\\xe6\\x8e3\\xa0v)\\xb9\\x1b\\xd1\\xfc\\xa8\\xd1\\x9c&\\x03\\x0b\\xc6\\\\q\\xed\\xa4\\x9eGX\\xff\\xab\\x87ls\\xc8\\xce\\xe3#\\xb1\\xf3\\xa9\\x80M|f\\xd5\\x120\\x84\\xe3\\x14\\x11;q\\xeb\\xf8h\\x97A\\xd9\\xb5\\x07\\xdbng\\xdb\\xd9\\xb17{\\xcb\\x80Bd$\\xc7\\xfe\\xdd\\xaf\\xd0\\x1b\\xbd\\xc1\\xa7\\xac\\xa2U\\t\\xc0\\xdd\\xdb\\x01\\x88J\\xc8\\xe0GH\\xc2s\\xfb\\xa7\\xc9\\x14\\xc5\\xbe\\x08\\xda\\xfeV\\xbb\\xbf\\xeb\\xf4\\x9f\\xec\\x0eP\\x10o\\x89\\x89\\x9b\\x03\\xad\\x9cT\\x1e\\n\\x1c\\xb7-\\x99\\xcc\\x8c\\x0c\\x10\\xacy\\xf7\\xde\\xff\\x07\\x17\\xb5\\x8c\\xb9k\\xc6\\x00\\x00'\n"
     ]
    }
   ],
   "source": [
    "# Imprimindo html\n",
    "print(html)"
   ]
  },
  {
   "cell_type": "markdown",
   "metadata": {},
   "source": [
    "# Fim"
   ]
  },
  {
   "cell_type": "markdown",
   "metadata": {
    "collapsed": true
   },
   "source": [
    "### Obrigado\n",
    "\n",
    "### Visite o Blog da Data Science Academy - <a href=\"http://blog.dsacademy.com.br\">Blog DSA</a>"
   ]
  }
 ],
 "metadata": {
  "kernelspec": {
   "display_name": "Python 3 (ipykernel)",
   "language": "python",
   "name": "python3"
  },
  "language_info": {
   "codemirror_mode": {
    "name": "ipython",
    "version": 3
   },
   "file_extension": ".py",
   "mimetype": "text/x-python",
   "name": "python",
   "nbconvert_exporter": "python",
   "pygments_lexer": "ipython3",
   "version": "3.9.13"
  }
 },
 "nbformat": 4,
 "nbformat_minor": 1
}
