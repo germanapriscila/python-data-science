{
 "cells": [
  {
   "cell_type": "code",
   "execution_count": null,
   "id": "568259ed",
   "metadata": {},
   "outputs": [
    {
     "name": "stdout",
     "output_type": "stream",
     "text": [
      "\n",
      "******************* Calculadora em Python *******************\n",
      "\n",
      "Selecione o número da operação desejada:\n",
      "1 - Adição\n",
      "2 - Subtração\n",
      "3 - Multiplicação\n",
      "4 - Divisão\n"
     ]
    }
   ],
   "source": [
    "print(\"\\n******************* Calculadora em Python *******************\"\n",
    "      \"\\n\\nSelecione o número da operação desejada:\"\n",
    "      \"\\n1 - Adição\"\n",
    "      \"\\n2 - Subtração\"\n",
    "      \"\\n3 - Multiplicação\"\n",
    "      \"\\n4 - Divisão\")\n",
    "\n",
    "opcao = input(\"\\n\\nDigite sua opção: \")\n",
    "\n",
    "if opcao == \"1\":\n",
    "    num1 = float(input(\"\\n\\nDigite o primeiro número: \"))\n",
    "    num2 = float(input(\"\\n\\nDigite o segundo número: \"))\n",
    "    print(f\"\\n\\nResultado: {int(num1 + num2)}\")\n",
    "\n",
    "elif opcao == \"2\":\n",
    "    num1 = float(input(\"\\n\\nDigite o primeiro número: \"))\n",
    "    num2 = float(input(\"\\n\\nDigite o segundo número: \"))\n",
    "    print(f\"\\n\\nResultado: {int(num1 - num2)}\")\n",
    "\n",
    "elif opcao == \"3\":\n",
    "    num1 = float(input(\"\\n\\nDigite o primeiro número: \"))\n",
    "    num2 = float(input(\"\\n\\nDigite o segundo número: \"))\n",
    "    print(f\"\\n\\nResultado: {int(num1 * num2)}\")\n",
    "\n",
    "elif opcao == \"4\":\n",
    "    num1 = float(input(\"\\n\\nDigite o primeiro número: \"))\n",
    "    num2 = float(input(\"\\n\\nDigite o segundo número: \"))\n",
    "    print(f\"\\n\\nResultado: {num1 / num2}\")\n",
    "\n",
    "else:\n",
    "    print(\"\\n\\nOpção inválida\")"
   ]
  },
  {
   "cell_type": "code",
   "execution_count": null,
   "id": "ca74ddae",
   "metadata": {},
   "outputs": [],
   "source": []
  }
 ],
 "metadata": {
  "kernelspec": {
   "display_name": "Python 3 (ipykernel)",
   "language": "python",
   "name": "python3"
  },
  "language_info": {
   "codemirror_mode": {
    "name": "ipython",
    "version": 3
   },
   "file_extension": ".py",
   "mimetype": "text/x-python",
   "name": "python",
   "nbconvert_exporter": "python",
   "pygments_lexer": "ipython3",
   "version": "3.9.13"
  }
 },
 "nbformat": 4,
 "nbformat_minor": 5
}
